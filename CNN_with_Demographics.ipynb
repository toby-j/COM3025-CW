{
  "cells": [
    {
      "cell_type": "markdown",
      "metadata": {
        "id": "axvXCln7XBYO"
      },
      "source": [
        "# Imports\n",
        "\n"
      ]
    },
    {
      "cell_type": "code",
      "execution_count": 1,
      "metadata": {
        "collapsed": true,
        "id": "52K6yZnah1wE"
      },
      "outputs": [],
      "source": [
        "import numpy as np\n",
        "import pandas as pd\n",
        "import os\n",
        "from matplotlib import pyplot as plt\n",
        "import seaborn as sns\n",
        "import cv2\n",
        "from keras.layers import Conv2D, MaxPool2D, Dense, Flatten, Dropout, Input, BatchNormalization, Activation, concatenate\n",
        "from tensorflow.keras.models import Model\n",
        "from keras import Sequential\n",
        "from sklearn.metrics import accuracy_score, f1_score, precision_score, recall_score\n",
        "import tensorflow"
      ]
    },
    {
      "cell_type": "markdown",
      "metadata": {
        "id": "NLCaKcaAXDNE"
      },
      "source": [
        "# Global functions"
      ]
    },
    {
      "cell_type": "code",
      "execution_count": 130,
      "metadata": {
        "id": "KtQKzYXCiy1-"
      },
      "outputs": [],
      "source": [
        "def output_metrics(model, test_data, test_labels):\n",
        "  predictions = model.predict(test_data)\n",
        "\n",
        "  y_pred  = np.argmax(predictions, axis=-1)\n",
        "\n",
        "  print(f'Accuracy score: {accuracy_score(test_labels, y_pred)}')\n",
        "  print(f'F1 score: {f1_score(test_labels, y_pred, average=\"weighted\")}')\n",
        "  print(f'Precision score: {precision_score(test_labels, y_pred, average=\"weighted\")}')\n",
        "  print(f'Recall score: {recall_score(test_labels, y_pred, average=\"weighted\")}')"
      ]
    },
    {
      "cell_type": "code",
      "execution_count": 3,
      "metadata": {
        "id": "-CAQsSNQi01b"
      },
      "outputs": [],
      "source": [
        "def read_and_resize_image(image_path, size):\n",
        "    img = cv2.imread(image_path)\n",
        "    img = cv2.resize(img, size)\n",
        "    return img"
      ]
    },
    {
      "cell_type": "markdown",
      "metadata": {
        "id": "2T0rLv2ZXHGB"
      },
      "source": [
        "# Loading dataset"
      ]
    },
    {
      "cell_type": "code",
      "execution_count": 4,
      "metadata": {
        "id": "eTgDjd_pi2g4"
      },
      "outputs": [],
      "source": [
        "!pip install -q kaggle\n",
        "from google.colab import files "
      ]
    },
    {
      "cell_type": "code",
      "execution_count": 5,
      "metadata": {
        "colab": {
          "base_uri": "https://localhost:8080/",
          "height": 92
        },
        "id": "cjW3KzByi341",
        "outputId": "740d4d61-45b2-4b83-88e5-4c2053376d95"
      },
      "outputs": [
        {
          "output_type": "display_data",
          "data": {
            "text/plain": [
              "<IPython.core.display.HTML object>"
            ],
            "text/html": [
              "\n",
              "     <input type=\"file\" id=\"files-305c6d7d-f4df-4b2c-abb7-54e507656790\" name=\"files[]\" multiple disabled\n",
              "        style=\"border:none\" />\n",
              "     <output id=\"result-305c6d7d-f4df-4b2c-abb7-54e507656790\">\n",
              "      Upload widget is only available when the cell has been executed in the\n",
              "      current browser session. Please rerun this cell to enable.\n",
              "      </output>\n",
              "      <script>// Copyright 2017 Google LLC\n",
              "//\n",
              "// Licensed under the Apache License, Version 2.0 (the \"License\");\n",
              "// you may not use this file except in compliance with the License.\n",
              "// You may obtain a copy of the License at\n",
              "//\n",
              "//      http://www.apache.org/licenses/LICENSE-2.0\n",
              "//\n",
              "// Unless required by applicable law or agreed to in writing, software\n",
              "// distributed under the License is distributed on an \"AS IS\" BASIS,\n",
              "// WITHOUT WARRANTIES OR CONDITIONS OF ANY KIND, either express or implied.\n",
              "// See the License for the specific language governing permissions and\n",
              "// limitations under the License.\n",
              "\n",
              "/**\n",
              " * @fileoverview Helpers for google.colab Python module.\n",
              " */\n",
              "(function(scope) {\n",
              "function span(text, styleAttributes = {}) {\n",
              "  const element = document.createElement('span');\n",
              "  element.textContent = text;\n",
              "  for (const key of Object.keys(styleAttributes)) {\n",
              "    element.style[key] = styleAttributes[key];\n",
              "  }\n",
              "  return element;\n",
              "}\n",
              "\n",
              "// Max number of bytes which will be uploaded at a time.\n",
              "const MAX_PAYLOAD_SIZE = 100 * 1024;\n",
              "\n",
              "function _uploadFiles(inputId, outputId) {\n",
              "  const steps = uploadFilesStep(inputId, outputId);\n",
              "  const outputElement = document.getElementById(outputId);\n",
              "  // Cache steps on the outputElement to make it available for the next call\n",
              "  // to uploadFilesContinue from Python.\n",
              "  outputElement.steps = steps;\n",
              "\n",
              "  return _uploadFilesContinue(outputId);\n",
              "}\n",
              "\n",
              "// This is roughly an async generator (not supported in the browser yet),\n",
              "// where there are multiple asynchronous steps and the Python side is going\n",
              "// to poll for completion of each step.\n",
              "// This uses a Promise to block the python side on completion of each step,\n",
              "// then passes the result of the previous step as the input to the next step.\n",
              "function _uploadFilesContinue(outputId) {\n",
              "  const outputElement = document.getElementById(outputId);\n",
              "  const steps = outputElement.steps;\n",
              "\n",
              "  const next = steps.next(outputElement.lastPromiseValue);\n",
              "  return Promise.resolve(next.value.promise).then((value) => {\n",
              "    // Cache the last promise value to make it available to the next\n",
              "    // step of the generator.\n",
              "    outputElement.lastPromiseValue = value;\n",
              "    return next.value.response;\n",
              "  });\n",
              "}\n",
              "\n",
              "/**\n",
              " * Generator function which is called between each async step of the upload\n",
              " * process.\n",
              " * @param {string} inputId Element ID of the input file picker element.\n",
              " * @param {string} outputId Element ID of the output display.\n",
              " * @return {!Iterable<!Object>} Iterable of next steps.\n",
              " */\n",
              "function* uploadFilesStep(inputId, outputId) {\n",
              "  const inputElement = document.getElementById(inputId);\n",
              "  inputElement.disabled = false;\n",
              "\n",
              "  const outputElement = document.getElementById(outputId);\n",
              "  outputElement.innerHTML = '';\n",
              "\n",
              "  const pickedPromise = new Promise((resolve) => {\n",
              "    inputElement.addEventListener('change', (e) => {\n",
              "      resolve(e.target.files);\n",
              "    });\n",
              "  });\n",
              "\n",
              "  const cancel = document.createElement('button');\n",
              "  inputElement.parentElement.appendChild(cancel);\n",
              "  cancel.textContent = 'Cancel upload';\n",
              "  const cancelPromise = new Promise((resolve) => {\n",
              "    cancel.onclick = () => {\n",
              "      resolve(null);\n",
              "    };\n",
              "  });\n",
              "\n",
              "  // Wait for the user to pick the files.\n",
              "  const files = yield {\n",
              "    promise: Promise.race([pickedPromise, cancelPromise]),\n",
              "    response: {\n",
              "      action: 'starting',\n",
              "    }\n",
              "  };\n",
              "\n",
              "  cancel.remove();\n",
              "\n",
              "  // Disable the input element since further picks are not allowed.\n",
              "  inputElement.disabled = true;\n",
              "\n",
              "  if (!files) {\n",
              "    return {\n",
              "      response: {\n",
              "        action: 'complete',\n",
              "      }\n",
              "    };\n",
              "  }\n",
              "\n",
              "  for (const file of files) {\n",
              "    const li = document.createElement('li');\n",
              "    li.append(span(file.name, {fontWeight: 'bold'}));\n",
              "    li.append(span(\n",
              "        `(${file.type || 'n/a'}) - ${file.size} bytes, ` +\n",
              "        `last modified: ${\n",
              "            file.lastModifiedDate ? file.lastModifiedDate.toLocaleDateString() :\n",
              "                                    'n/a'} - `));\n",
              "    const percent = span('0% done');\n",
              "    li.appendChild(percent);\n",
              "\n",
              "    outputElement.appendChild(li);\n",
              "\n",
              "    const fileDataPromise = new Promise((resolve) => {\n",
              "      const reader = new FileReader();\n",
              "      reader.onload = (e) => {\n",
              "        resolve(e.target.result);\n",
              "      };\n",
              "      reader.readAsArrayBuffer(file);\n",
              "    });\n",
              "    // Wait for the data to be ready.\n",
              "    let fileData = yield {\n",
              "      promise: fileDataPromise,\n",
              "      response: {\n",
              "        action: 'continue',\n",
              "      }\n",
              "    };\n",
              "\n",
              "    // Use a chunked sending to avoid message size limits. See b/62115660.\n",
              "    let position = 0;\n",
              "    do {\n",
              "      const length = Math.min(fileData.byteLength - position, MAX_PAYLOAD_SIZE);\n",
              "      const chunk = new Uint8Array(fileData, position, length);\n",
              "      position += length;\n",
              "\n",
              "      const base64 = btoa(String.fromCharCode.apply(null, chunk));\n",
              "      yield {\n",
              "        response: {\n",
              "          action: 'append',\n",
              "          file: file.name,\n",
              "          data: base64,\n",
              "        },\n",
              "      };\n",
              "\n",
              "      let percentDone = fileData.byteLength === 0 ?\n",
              "          100 :\n",
              "          Math.round((position / fileData.byteLength) * 100);\n",
              "      percent.textContent = `${percentDone}% done`;\n",
              "\n",
              "    } while (position < fileData.byteLength);\n",
              "  }\n",
              "\n",
              "  // All done.\n",
              "  yield {\n",
              "    response: {\n",
              "      action: 'complete',\n",
              "    }\n",
              "  };\n",
              "}\n",
              "\n",
              "scope.google = scope.google || {};\n",
              "scope.google.colab = scope.google.colab || {};\n",
              "scope.google.colab._files = {\n",
              "  _uploadFiles,\n",
              "  _uploadFilesContinue,\n",
              "};\n",
              "})(self);\n",
              "</script> "
            ]
          },
          "metadata": {}
        },
        {
          "output_type": "stream",
          "name": "stdout",
          "text": [
            "Saving kaggle.json to kaggle (4).json\n"
          ]
        },
        {
          "output_type": "execute_result",
          "data": {
            "text/plain": [
              "{'kaggle.json': b'{\"username\":\"johnk27\",\"key\":\"00b3f1fe3fa0259eb805e8fe2dd1eb02\"}'}"
            ]
          },
          "metadata": {},
          "execution_count": 5
        }
      ],
      "source": [
        "files.upload()"
      ]
    },
    {
      "cell_type": "code",
      "execution_count": 6,
      "metadata": {
        "colab": {
          "base_uri": "https://localhost:8080/"
        },
        "id": "ugZC4Cuai5Kc",
        "outputId": "db4e6668-9b69-4d54-d39f-64ede658bcf9"
      },
      "outputs": [
        {
          "output_type": "stream",
          "name": "stdout",
          "text": [
            "mkdir: cannot create directory ‘/root/.kaggle’: File exists\n"
          ]
        }
      ],
      "source": [
        "!mkdir ~/.kaggle"
      ]
    },
    {
      "cell_type": "code",
      "execution_count": 7,
      "metadata": {
        "id": "sQEVq4MQi6hF"
      },
      "outputs": [],
      "source": [
        "!cp kaggle.json ~/.kaggle/"
      ]
    },
    {
      "cell_type": "code",
      "execution_count": 8,
      "metadata": {
        "id": "f50QLOIji7zx"
      },
      "outputs": [],
      "source": [
        "!chmod 600 ~/.kaggle/kaggle.json"
      ]
    },
    {
      "cell_type": "code",
      "execution_count": 9,
      "metadata": {
        "colab": {
          "base_uri": "https://localhost:8080/"
        },
        "id": "Hmnl5U-Hi9LG",
        "outputId": "2d407cc0-864e-4e41-cb74-4bce5cf3aa9b"
      },
      "outputs": [
        {
          "output_type": "stream",
          "name": "stdout",
          "text": [
            "Downloading skin-cancer-mnist-ham10000.zip to /content\n",
            "100% 5.18G/5.20G [00:34<00:00, 308MB/s]\n",
            "100% 5.20G/5.20G [00:34<00:00, 162MB/s]\n"
          ]
        }
      ],
      "source": [
        "!kaggle datasets download -d kmader/skin-cancer-mnist-ham10000"
      ]
    },
    {
      "cell_type": "code",
      "execution_count": 27,
      "metadata": {
        "colab": {
          "base_uri": "https://localhost:8080/"
        },
        "id": "2WW4iTPei-po",
        "outputId": "1fd80abf-7e2d-41fa-fe9e-62b6326ae208"
      },
      "outputs": [
        {
          "output_type": "stream",
          "name": "stdout",
          "text": [
            "unzip:  cannot find or open skin-cancer-mnist-ham10000.zip, skin-cancer-mnist-ham10000.zip.zip or skin-cancer-mnist-ham10000.zip.ZIP.\n"
          ]
        }
      ],
      "source": [
        "!unzip -q skin-cancer-mnist-ham10000.zip -d content"
      ]
    },
    {
      "cell_type": "code",
      "execution_count": 28,
      "metadata": {
        "id": "r5ob-A16jAsY",
        "colab": {
          "base_uri": "https://localhost:8080/"
        },
        "outputId": "e76dec5d-8b39-4687-ec77-5d4fd176f0a2"
      },
      "outputs": [
        {
          "output_type": "stream",
          "name": "stdout",
          "text": [
            "rm: cannot remove 'skin-cancer-mnist-ham10000.zip': No such file or directory\n"
          ]
        }
      ],
      "source": [
        "# Removing the zip to save space\n",
        "!rm skin-cancer-mnist-ham10000.zip"
      ]
    },
    {
      "cell_type": "code",
      "execution_count": 29,
      "metadata": {
        "id": "2SUot5sVh1wG"
      },
      "outputs": [],
      "source": [
        "df = pd.read_csv('content/HAM10000_metadata.csv')"
      ]
    },
    {
      "cell_type": "code",
      "execution_count": 30,
      "metadata": {
        "colab": {
          "base_uri": "https://localhost:8080/"
        },
        "id": "GtWHFJf8h1wJ",
        "outputId": "4df29799-3118-48d9-827c-35f4660dcec3"
      },
      "outputs": [
        {
          "output_type": "stream",
          "name": "stdout",
          "text": [
            "         lesion_id      image_id     dx dx_type   age     sex localization\n",
            "0      HAM_0000118  ISIC_0027419    bkl   histo  80.0    male        scalp\n",
            "1      HAM_0000118  ISIC_0025030    bkl   histo  80.0    male        scalp\n",
            "2      HAM_0002730  ISIC_0026769    bkl   histo  80.0    male        scalp\n",
            "3      HAM_0002730  ISIC_0025661    bkl   histo  80.0    male        scalp\n",
            "4      HAM_0001466  ISIC_0031633    bkl   histo  75.0    male          ear\n",
            "...            ...           ...    ...     ...   ...     ...          ...\n",
            "10010  HAM_0002867  ISIC_0033084  akiec   histo  40.0    male      abdomen\n",
            "10011  HAM_0002867  ISIC_0033550  akiec   histo  40.0    male      abdomen\n",
            "10012  HAM_0002867  ISIC_0033536  akiec   histo  40.0    male      abdomen\n",
            "10013  HAM_0000239  ISIC_0032854  akiec   histo  80.0    male         face\n",
            "10014  HAM_0003521  ISIC_0032258    mel   histo  70.0  female         back\n",
            "\n",
            "[10015 rows x 7 columns]\n"
          ]
        }
      ],
      "source": [
        "print(df)"
      ]
    },
    {
      "cell_type": "code",
      "execution_count": 31,
      "metadata": {
        "colab": {
          "base_uri": "https://localhost:8080/",
          "height": 206
        },
        "id": "Y7JLvsWNh1wM",
        "outputId": "99db200c-ad7a-4998-a0db-7359c60db791"
      },
      "outputs": [
        {
          "output_type": "execute_result",
          "data": {
            "text/plain": [
              "     lesion_id      image_id   dx dx_type   age   sex localization\n",
              "0  HAM_0000118  ISIC_0027419  bkl   histo  80.0  male        scalp\n",
              "1  HAM_0000118  ISIC_0025030  bkl   histo  80.0  male        scalp\n",
              "2  HAM_0002730  ISIC_0026769  bkl   histo  80.0  male        scalp\n",
              "3  HAM_0002730  ISIC_0025661  bkl   histo  80.0  male        scalp\n",
              "4  HAM_0001466  ISIC_0031633  bkl   histo  75.0  male          ear"
            ],
            "text/html": [
              "\n",
              "  <div id=\"df-d79c592f-b7d1-4f31-ae6f-6a41729a8e79\">\n",
              "    <div class=\"colab-df-container\">\n",
              "      <div>\n",
              "<style scoped>\n",
              "    .dataframe tbody tr th:only-of-type {\n",
              "        vertical-align: middle;\n",
              "    }\n",
              "\n",
              "    .dataframe tbody tr th {\n",
              "        vertical-align: top;\n",
              "    }\n",
              "\n",
              "    .dataframe thead th {\n",
              "        text-align: right;\n",
              "    }\n",
              "</style>\n",
              "<table border=\"1\" class=\"dataframe\">\n",
              "  <thead>\n",
              "    <tr style=\"text-align: right;\">\n",
              "      <th></th>\n",
              "      <th>lesion_id</th>\n",
              "      <th>image_id</th>\n",
              "      <th>dx</th>\n",
              "      <th>dx_type</th>\n",
              "      <th>age</th>\n",
              "      <th>sex</th>\n",
              "      <th>localization</th>\n",
              "    </tr>\n",
              "  </thead>\n",
              "  <tbody>\n",
              "    <tr>\n",
              "      <th>0</th>\n",
              "      <td>HAM_0000118</td>\n",
              "      <td>ISIC_0027419</td>\n",
              "      <td>bkl</td>\n",
              "      <td>histo</td>\n",
              "      <td>80.0</td>\n",
              "      <td>male</td>\n",
              "      <td>scalp</td>\n",
              "    </tr>\n",
              "    <tr>\n",
              "      <th>1</th>\n",
              "      <td>HAM_0000118</td>\n",
              "      <td>ISIC_0025030</td>\n",
              "      <td>bkl</td>\n",
              "      <td>histo</td>\n",
              "      <td>80.0</td>\n",
              "      <td>male</td>\n",
              "      <td>scalp</td>\n",
              "    </tr>\n",
              "    <tr>\n",
              "      <th>2</th>\n",
              "      <td>HAM_0002730</td>\n",
              "      <td>ISIC_0026769</td>\n",
              "      <td>bkl</td>\n",
              "      <td>histo</td>\n",
              "      <td>80.0</td>\n",
              "      <td>male</td>\n",
              "      <td>scalp</td>\n",
              "    </tr>\n",
              "    <tr>\n",
              "      <th>3</th>\n",
              "      <td>HAM_0002730</td>\n",
              "      <td>ISIC_0025661</td>\n",
              "      <td>bkl</td>\n",
              "      <td>histo</td>\n",
              "      <td>80.0</td>\n",
              "      <td>male</td>\n",
              "      <td>scalp</td>\n",
              "    </tr>\n",
              "    <tr>\n",
              "      <th>4</th>\n",
              "      <td>HAM_0001466</td>\n",
              "      <td>ISIC_0031633</td>\n",
              "      <td>bkl</td>\n",
              "      <td>histo</td>\n",
              "      <td>75.0</td>\n",
              "      <td>male</td>\n",
              "      <td>ear</td>\n",
              "    </tr>\n",
              "  </tbody>\n",
              "</table>\n",
              "</div>\n",
              "      <button class=\"colab-df-convert\" onclick=\"convertToInteractive('df-d79c592f-b7d1-4f31-ae6f-6a41729a8e79')\"\n",
              "              title=\"Convert this dataframe to an interactive table.\"\n",
              "              style=\"display:none;\">\n",
              "        \n",
              "  <svg xmlns=\"http://www.w3.org/2000/svg\" height=\"24px\"viewBox=\"0 0 24 24\"\n",
              "       width=\"24px\">\n",
              "    <path d=\"M0 0h24v24H0V0z\" fill=\"none\"/>\n",
              "    <path d=\"M18.56 5.44l.94 2.06.94-2.06 2.06-.94-2.06-.94-.94-2.06-.94 2.06-2.06.94zm-11 1L8.5 8.5l.94-2.06 2.06-.94-2.06-.94L8.5 2.5l-.94 2.06-2.06.94zm10 10l.94 2.06.94-2.06 2.06-.94-2.06-.94-.94-2.06-.94 2.06-2.06.94z\"/><path d=\"M17.41 7.96l-1.37-1.37c-.4-.4-.92-.59-1.43-.59-.52 0-1.04.2-1.43.59L10.3 9.45l-7.72 7.72c-.78.78-.78 2.05 0 2.83L4 21.41c.39.39.9.59 1.41.59.51 0 1.02-.2 1.41-.59l7.78-7.78 2.81-2.81c.8-.78.8-2.07 0-2.86zM5.41 20L4 18.59l7.72-7.72 1.47 1.35L5.41 20z\"/>\n",
              "  </svg>\n",
              "      </button>\n",
              "      \n",
              "  <style>\n",
              "    .colab-df-container {\n",
              "      display:flex;\n",
              "      flex-wrap:wrap;\n",
              "      gap: 12px;\n",
              "    }\n",
              "\n",
              "    .colab-df-convert {\n",
              "      background-color: #E8F0FE;\n",
              "      border: none;\n",
              "      border-radius: 50%;\n",
              "      cursor: pointer;\n",
              "      display: none;\n",
              "      fill: #1967D2;\n",
              "      height: 32px;\n",
              "      padding: 0 0 0 0;\n",
              "      width: 32px;\n",
              "    }\n",
              "\n",
              "    .colab-df-convert:hover {\n",
              "      background-color: #E2EBFA;\n",
              "      box-shadow: 0px 1px 2px rgba(60, 64, 67, 0.3), 0px 1px 3px 1px rgba(60, 64, 67, 0.15);\n",
              "      fill: #174EA6;\n",
              "    }\n",
              "\n",
              "    [theme=dark] .colab-df-convert {\n",
              "      background-color: #3B4455;\n",
              "      fill: #D2E3FC;\n",
              "    }\n",
              "\n",
              "    [theme=dark] .colab-df-convert:hover {\n",
              "      background-color: #434B5C;\n",
              "      box-shadow: 0px 1px 3px 1px rgba(0, 0, 0, 0.15);\n",
              "      filter: drop-shadow(0px 1px 2px rgba(0, 0, 0, 0.3));\n",
              "      fill: #FFFFFF;\n",
              "    }\n",
              "  </style>\n",
              "\n",
              "      <script>\n",
              "        const buttonEl =\n",
              "          document.querySelector('#df-d79c592f-b7d1-4f31-ae6f-6a41729a8e79 button.colab-df-convert');\n",
              "        buttonEl.style.display =\n",
              "          google.colab.kernel.accessAllowed ? 'block' : 'none';\n",
              "\n",
              "        async function convertToInteractive(key) {\n",
              "          const element = document.querySelector('#df-d79c592f-b7d1-4f31-ae6f-6a41729a8e79');\n",
              "          const dataTable =\n",
              "            await google.colab.kernel.invokeFunction('convertToInteractive',\n",
              "                                                     [key], {});\n",
              "          if (!dataTable) return;\n",
              "\n",
              "          const docLinkHtml = 'Like what you see? Visit the ' +\n",
              "            '<a target=\"_blank\" href=https://colab.research.google.com/notebooks/data_table.ipynb>data table notebook</a>'\n",
              "            + ' to learn more about interactive tables.';\n",
              "          element.innerHTML = '';\n",
              "          dataTable['output_type'] = 'display_data';\n",
              "          await google.colab.output.renderOutput(dataTable, element);\n",
              "          const docLink = document.createElement('div');\n",
              "          docLink.innerHTML = docLinkHtml;\n",
              "          element.appendChild(docLink);\n",
              "        }\n",
              "      </script>\n",
              "    </div>\n",
              "  </div>\n",
              "  "
            ]
          },
          "metadata": {},
          "execution_count": 31
        }
      ],
      "source": [
        "df.head()"
      ]
    },
    {
      "cell_type": "code",
      "execution_count": 32,
      "metadata": {
        "colab": {
          "base_uri": "https://localhost:8080/",
          "height": 300
        },
        "id": "OtP5Eb60h1wN",
        "outputId": "4267dcd6-fd46-4f08-f00d-dc1079681c58"
      },
      "outputs": [
        {
          "output_type": "execute_result",
          "data": {
            "text/plain": [
              "               age\n",
              "count  9958.000000\n",
              "mean     51.863828\n",
              "std      16.968614\n",
              "min       0.000000\n",
              "25%      40.000000\n",
              "50%      50.000000\n",
              "75%      65.000000\n",
              "max      85.000000"
            ],
            "text/html": [
              "\n",
              "  <div id=\"df-3664f916-ab69-4f0c-9cb4-4f243ff5b43e\">\n",
              "    <div class=\"colab-df-container\">\n",
              "      <div>\n",
              "<style scoped>\n",
              "    .dataframe tbody tr th:only-of-type {\n",
              "        vertical-align: middle;\n",
              "    }\n",
              "\n",
              "    .dataframe tbody tr th {\n",
              "        vertical-align: top;\n",
              "    }\n",
              "\n",
              "    .dataframe thead th {\n",
              "        text-align: right;\n",
              "    }\n",
              "</style>\n",
              "<table border=\"1\" class=\"dataframe\">\n",
              "  <thead>\n",
              "    <tr style=\"text-align: right;\">\n",
              "      <th></th>\n",
              "      <th>age</th>\n",
              "    </tr>\n",
              "  </thead>\n",
              "  <tbody>\n",
              "    <tr>\n",
              "      <th>count</th>\n",
              "      <td>9958.000000</td>\n",
              "    </tr>\n",
              "    <tr>\n",
              "      <th>mean</th>\n",
              "      <td>51.863828</td>\n",
              "    </tr>\n",
              "    <tr>\n",
              "      <th>std</th>\n",
              "      <td>16.968614</td>\n",
              "    </tr>\n",
              "    <tr>\n",
              "      <th>min</th>\n",
              "      <td>0.000000</td>\n",
              "    </tr>\n",
              "    <tr>\n",
              "      <th>25%</th>\n",
              "      <td>40.000000</td>\n",
              "    </tr>\n",
              "    <tr>\n",
              "      <th>50%</th>\n",
              "      <td>50.000000</td>\n",
              "    </tr>\n",
              "    <tr>\n",
              "      <th>75%</th>\n",
              "      <td>65.000000</td>\n",
              "    </tr>\n",
              "    <tr>\n",
              "      <th>max</th>\n",
              "      <td>85.000000</td>\n",
              "    </tr>\n",
              "  </tbody>\n",
              "</table>\n",
              "</div>\n",
              "      <button class=\"colab-df-convert\" onclick=\"convertToInteractive('df-3664f916-ab69-4f0c-9cb4-4f243ff5b43e')\"\n",
              "              title=\"Convert this dataframe to an interactive table.\"\n",
              "              style=\"display:none;\">\n",
              "        \n",
              "  <svg xmlns=\"http://www.w3.org/2000/svg\" height=\"24px\"viewBox=\"0 0 24 24\"\n",
              "       width=\"24px\">\n",
              "    <path d=\"M0 0h24v24H0V0z\" fill=\"none\"/>\n",
              "    <path d=\"M18.56 5.44l.94 2.06.94-2.06 2.06-.94-2.06-.94-.94-2.06-.94 2.06-2.06.94zm-11 1L8.5 8.5l.94-2.06 2.06-.94-2.06-.94L8.5 2.5l-.94 2.06-2.06.94zm10 10l.94 2.06.94-2.06 2.06-.94-2.06-.94-.94-2.06-.94 2.06-2.06.94z\"/><path d=\"M17.41 7.96l-1.37-1.37c-.4-.4-.92-.59-1.43-.59-.52 0-1.04.2-1.43.59L10.3 9.45l-7.72 7.72c-.78.78-.78 2.05 0 2.83L4 21.41c.39.39.9.59 1.41.59.51 0 1.02-.2 1.41-.59l7.78-7.78 2.81-2.81c.8-.78.8-2.07 0-2.86zM5.41 20L4 18.59l7.72-7.72 1.47 1.35L5.41 20z\"/>\n",
              "  </svg>\n",
              "      </button>\n",
              "      \n",
              "  <style>\n",
              "    .colab-df-container {\n",
              "      display:flex;\n",
              "      flex-wrap:wrap;\n",
              "      gap: 12px;\n",
              "    }\n",
              "\n",
              "    .colab-df-convert {\n",
              "      background-color: #E8F0FE;\n",
              "      border: none;\n",
              "      border-radius: 50%;\n",
              "      cursor: pointer;\n",
              "      display: none;\n",
              "      fill: #1967D2;\n",
              "      height: 32px;\n",
              "      padding: 0 0 0 0;\n",
              "      width: 32px;\n",
              "    }\n",
              "\n",
              "    .colab-df-convert:hover {\n",
              "      background-color: #E2EBFA;\n",
              "      box-shadow: 0px 1px 2px rgba(60, 64, 67, 0.3), 0px 1px 3px 1px rgba(60, 64, 67, 0.15);\n",
              "      fill: #174EA6;\n",
              "    }\n",
              "\n",
              "    [theme=dark] .colab-df-convert {\n",
              "      background-color: #3B4455;\n",
              "      fill: #D2E3FC;\n",
              "    }\n",
              "\n",
              "    [theme=dark] .colab-df-convert:hover {\n",
              "      background-color: #434B5C;\n",
              "      box-shadow: 0px 1px 3px 1px rgba(0, 0, 0, 0.15);\n",
              "      filter: drop-shadow(0px 1px 2px rgba(0, 0, 0, 0.3));\n",
              "      fill: #FFFFFF;\n",
              "    }\n",
              "  </style>\n",
              "\n",
              "      <script>\n",
              "        const buttonEl =\n",
              "          document.querySelector('#df-3664f916-ab69-4f0c-9cb4-4f243ff5b43e button.colab-df-convert');\n",
              "        buttonEl.style.display =\n",
              "          google.colab.kernel.accessAllowed ? 'block' : 'none';\n",
              "\n",
              "        async function convertToInteractive(key) {\n",
              "          const element = document.querySelector('#df-3664f916-ab69-4f0c-9cb4-4f243ff5b43e');\n",
              "          const dataTable =\n",
              "            await google.colab.kernel.invokeFunction('convertToInteractive',\n",
              "                                                     [key], {});\n",
              "          if (!dataTable) return;\n",
              "\n",
              "          const docLinkHtml = 'Like what you see? Visit the ' +\n",
              "            '<a target=\"_blank\" href=https://colab.research.google.com/notebooks/data_table.ipynb>data table notebook</a>'\n",
              "            + ' to learn more about interactive tables.';\n",
              "          element.innerHTML = '';\n",
              "          dataTable['output_type'] = 'display_data';\n",
              "          await google.colab.output.renderOutput(dataTable, element);\n",
              "          const docLink = document.createElement('div');\n",
              "          docLink.innerHTML = docLinkHtml;\n",
              "          element.appendChild(docLink);\n",
              "        }\n",
              "      </script>\n",
              "    </div>\n",
              "  </div>\n",
              "  "
            ]
          },
          "metadata": {},
          "execution_count": 32
        }
      ],
      "source": [
        "df.describe()"
      ]
    },
    {
      "cell_type": "code",
      "execution_count": 33,
      "metadata": {
        "colab": {
          "base_uri": "https://localhost:8080/"
        },
        "id": "aJ56Iba7ufiM",
        "outputId": "40d84ac5-c346-4b22-e35f-e0f816ac6f35"
      },
      "outputs": [
        {
          "output_type": "execute_result",
          "data": {
            "text/plain": [
              "array(['scalp', 'ear', 'face', 'back', 'trunk', 'chest',\n",
              "       'upper extremity', 'abdomen', 'unknown', 'lower extremity',\n",
              "       'genital', 'neck', 'hand', 'foot', 'acral'], dtype=object)"
            ]
          },
          "metadata": {},
          "execution_count": 33
        }
      ],
      "source": [
        "df.localization.unique()"
      ]
    },
    {
      "cell_type": "markdown",
      "metadata": {
        "id": "9QgQuD-LXKv7"
      },
      "source": [
        "# Pre-processing"
      ]
    },
    {
      "cell_type": "code",
      "execution_count": 34,
      "metadata": {
        "id": "6NmOag0Bh1wO"
      },
      "outputs": [],
      "source": [
        "lesion_type_dict = {\n",
        "    'nv': 'Melanocytic nevi',\n",
        "    'mel': 'Melanoma',\n",
        "    'bkl': 'Bening keratosis-like lesions',\n",
        "    'bcc': 'Basal cell carcinoma',\n",
        "    'akiec': 'Actinic keratoses',\n",
        "    'vasc': 'Vascular lesions',\n",
        "    'df': 'Dermatofibroma'\n",
        "}\n",
        "raw_images = 'content'"
      ]
    },
    {
      "cell_type": "code",
      "execution_count": 35,
      "metadata": {
        "id": "BJ7lj5hhh1wP"
      },
      "outputs": [],
      "source": [
        "from glob import glob\n",
        "\n",
        "imageid_path_dict = {os.path.splitext(os.path.basename(x))[0]: x\n",
        "                     for x in glob(os.path.join(raw_images, '*', '*.jpg'))}"
      ]
    },
    {
      "cell_type": "code",
      "execution_count": 36,
      "metadata": {
        "colab": {
          "base_uri": "https://localhost:8080/"
        },
        "id": "igSt5ihMh1wR",
        "outputId": "894fb35d-5c88-477c-e6dd-30a5020639a0"
      },
      "outputs": [
        {
          "output_type": "stream",
          "name": "stdout",
          "text": [
            "content/*/*.jpg\n"
          ]
        }
      ],
      "source": [
        "print(os.path.join(raw_images, '*', '*.jpg'))"
      ]
    },
    {
      "cell_type": "code",
      "execution_count": 37,
      "metadata": {
        "id": "wi8Cr9Igh1wS"
      },
      "outputs": [],
      "source": [
        "df['path'] = df['image_id'].map(imageid_path_dict.get)\n",
        "df['cell_type'] = df['dx'].map(lesion_type_dict.get)\n",
        "df['cell_type_idx'] = pd.Categorical(df['cell_type']).codes"
      ]
    },
    {
      "cell_type": "code",
      "execution_count": 38,
      "metadata": {
        "colab": {
          "base_uri": "https://localhost:8080/"
        },
        "id": "ivJqC_uih1wU",
        "outputId": "185f4bb6-80c0-4c93-a2ea-6aa1586e118c"
      },
      "outputs": [
        {
          "output_type": "execute_result",
          "data": {
            "text/plain": [
              "lesion_id         0\n",
              "image_id          0\n",
              "dx                0\n",
              "dx_type           0\n",
              "age              57\n",
              "sex               0\n",
              "localization      0\n",
              "path              0\n",
              "cell_type         0\n",
              "cell_type_idx     0\n",
              "dtype: int64"
            ]
          },
          "metadata": {},
          "execution_count": 38
        }
      ],
      "source": [
        "df.isna().sum()"
      ]
    },
    {
      "cell_type": "code",
      "execution_count": 39,
      "metadata": {
        "id": "7zWnerX_HkdU"
      },
      "outputs": [],
      "source": [
        "df = df.dropna()"
      ]
    },
    {
      "cell_type": "code",
      "execution_count": 42,
      "metadata": {
        "id": "xNMAIHKvh1wf"
      },
      "outputs": [],
      "source": [
        "image_size = (64, 64)"
      ]
    },
    {
      "cell_type": "code",
      "execution_count": 43,
      "metadata": {
        "id": "nnWnwG2xh1wg"
      },
      "outputs": [],
      "source": [
        "# Apply the function to each image path in the 'path' column of the dataframe\n",
        "df['image'] = df['path'].apply(lambda x: read_and_resize_image(x, image_size))"
      ]
    },
    {
      "cell_type": "code",
      "execution_count": 45,
      "metadata": {
        "colab": {
          "base_uri": "https://localhost:8080/"
        },
        "id": "gOx00QvRh1wg",
        "outputId": "95c48d8b-5de8-4904-9f73-e1fa87e375d5"
      },
      "outputs": [
        {
          "output_type": "execute_result",
          "data": {
            "text/plain": [
              "(64, 64, 3)    9958\n",
              "Name: image, dtype: int64"
            ]
          },
          "metadata": {},
          "execution_count": 45
        }
      ],
      "source": [
        "df['image'].map(lambda x: x.shape).value_counts()"
      ]
    },
    {
      "cell_type": "code",
      "execution_count": 46,
      "metadata": {
        "id": "GXckAT1zh1wh"
      },
      "outputs": [],
      "source": [
        "from sklearn.model_selection import train_test_split\n",
        "# Split the data into train and test sets\n",
        "train_df, test_df = train_test_split(df, test_size=0.2, stratify=df['cell_type_idx'], random_state=42)"
      ]
    },
    {
      "cell_type": "code",
      "execution_count": 47,
      "metadata": {
        "id": "6t4IY2lu-P8i"
      },
      "outputs": [],
      "source": [
        "train_df = train_df.reset_index()  # make sure indexes pair with number of rows"
      ]
    },
    {
      "cell_type": "code",
      "execution_count": 48,
      "metadata": {
        "colab": {
          "base_uri": "https://localhost:8080/"
        },
        "id": "mTWg9nb33cYH",
        "outputId": "bdda7ec1-dfcd-4b9f-a5e9-e63088af22f8"
      },
      "outputs": [
        {
          "output_type": "stream",
          "name": "stdout",
          "text": [
            "      index    lesion_id      image_id     dx    dx_type   age     sex  \\\n",
            "0      5649  HAM_0003963  ISIC_0027448     nv  follow_up  45.0  female   \n",
            "1        29  HAM_0001480  ISIC_0031753    bkl      histo  70.0    male   \n",
            "2      8367  HAM_0000597  ISIC_0030654     nv      histo  35.0  female   \n",
            "3      9841  HAM_0002615  ISIC_0033413  akiec      histo  70.0    male   \n",
            "4      1429  HAM_0001729  ISIC_0024537    mel      histo  85.0    male   \n",
            "...     ...          ...           ...    ...        ...   ...     ...   \n",
            "7961   5022  HAM_0005841  ISIC_0027804     nv  follow_up  50.0  female   \n",
            "7962   3768  HAM_0007408  ISIC_0028377     nv  follow_up   5.0    male   \n",
            "7963   9509  HAM_0004705  ISIC_0034260     nv  consensus  65.0    male   \n",
            "7964   3341  HAM_0001810  ISIC_0025794     nv  follow_up  45.0  female   \n",
            "7965   3697  HAM_0005218  ISIC_0028939     nv  follow_up  55.0  female   \n",
            "\n",
            "         localization                                             path  \\\n",
            "0     lower extremity  content/HAM10000_images_part_1/ISIC_0027448.jpg   \n",
            "1             abdomen  content/ham10000_images_part_2/ISIC_0031753.jpg   \n",
            "2             abdomen  content/ham10000_images_part_2/ISIC_0030654.jpg   \n",
            "3               scalp  content/ham10000_images_part_2/ISIC_0033413.jpg   \n",
            "4     upper extremity  content/HAM10000_images_part_1/ISIC_0024537.jpg   \n",
            "...               ...                                              ...   \n",
            "7961            trunk  content/HAM10000_images_part_1/ISIC_0027804.jpg   \n",
            "7962             back  content/HAM10000_images_part_1/ISIC_0028377.jpg   \n",
            "7963          abdomen  content/ham10000_images_part_2/ISIC_0034260.jpg   \n",
            "7964             back  content/HAM10000_images_part_1/ISIC_0025794.jpg   \n",
            "7965  lower extremity  content/HAM10000_images_part_1/ISIC_0028939.jpg   \n",
            "\n",
            "                          cell_type  cell_type_idx  \\\n",
            "0                  Melanocytic nevi              4   \n",
            "1     Bening keratosis-like lesions              2   \n",
            "2                  Melanocytic nevi              4   \n",
            "3                 Actinic keratoses              0   \n",
            "4                          Melanoma              5   \n",
            "...                             ...            ...   \n",
            "7961               Melanocytic nevi              4   \n",
            "7962               Melanocytic nevi              4   \n",
            "7963               Melanocytic nevi              4   \n",
            "7964               Melanocytic nevi              4   \n",
            "7965               Melanocytic nevi              4   \n",
            "\n",
            "                                                  image  \n",
            "0     [[[160, 136, 220], [154, 131, 215], [150, 126,...  \n",
            "1     [[[192, 152, 180], [188, 147, 179], [190, 152,...  \n",
            "2     [[[255, 197, 227], [250, 195, 229], [255, 211,...  \n",
            "3     [[[155, 153, 178], [152, 152, 176], [149, 155,...  \n",
            "4     [[[153, 134, 167], [154, 136, 173], [149, 131,...  \n",
            "...                                                 ...  \n",
            "7961  [[[169, 159, 236], [177, 165, 240], [180, 164,...  \n",
            "7962  [[[153, 154, 231], [141, 147, 224], [150, 150,...  \n",
            "7963  [[[169, 148, 179], [173, 151, 179], [179, 158,...  \n",
            "7964  [[[169, 156, 230], [177, 153, 230], [176, 159,...  \n",
            "7965  [[[193, 163, 224], [200, 175, 234], [192, 171,...  \n",
            "\n",
            "[7966 rows x 12 columns]\n"
          ]
        }
      ],
      "source": [
        "print(train_df)"
      ]
    },
    {
      "cell_type": "code",
      "execution_count": 49,
      "metadata": {
        "colab": {
          "base_uri": "https://localhost:8080/"
        },
        "id": "C9VmaLLbyu4u",
        "outputId": "27907fe5-9182-4344-e3d7-d9fe2f85ea58"
      },
      "outputs": [
        {
          "output_type": "execute_result",
          "data": {
            "text/plain": [
              "(64, 64, 3)    7966\n",
              "Name: image, dtype: int64"
            ]
          },
          "metadata": {},
          "execution_count": 49
        }
      ],
      "source": [
        "train_df['image'].map(lambda x: x.shape).value_counts()"
      ]
    },
    {
      "cell_type": "markdown",
      "source": [
        "# Individual"
      ],
      "metadata": {
        "id": "1PVuJrdrgu9u"
      }
    },
    {
      "cell_type": "code",
      "execution_count": 104,
      "metadata": {
        "id": "Hb9wBWvuh1wi"
      },
      "outputs": [],
      "source": [
        "# Extract the image data and target labels for train and test sets\n",
        "X_train_img = np.stack(train_df['image'].values)\n",
        "y_train = train_df['cell_type_idx'].values\n",
        "X_test_img = np.stack(test_df['image'].values)\n",
        "y_test = test_df['cell_type_idx'].values"
      ]
    },
    {
      "cell_type": "code",
      "execution_count": 105,
      "metadata": {
        "id": "oaFOZWp4iiLP"
      },
      "outputs": [],
      "source": [
        "def cnn():\n",
        "  model = Sequential()\n",
        "  model.add(Conv2D(64, (3, 3), activation='relu', input_shape=(image_size[0], image_size[1], 3)))\n",
        "  model.add(BatchNormalization())\n",
        "  model.add(MaxPool2D((2, 2)))\n",
        "  model.add(BatchNormalization())\n",
        "  model.add(Conv2D(128, (3, 3), activation='relu'))\n",
        "  model.add(Dropout(0.6))\n",
        "  model.add(BatchNormalization())\n",
        "  model.add(MaxPool2D((2, 2)))\n",
        "  model.add(BatchNormalization())\n",
        "  model.add(Flatten())\n",
        "  model.add(Dense(256, activation='relu'))\n",
        "  model.add(BatchNormalization())\n",
        "  model.add(Dropout(0.6))\n",
        "  model.add(Dense(len(df['cell_type_idx'].unique()), activation='softmax'))\n",
        "  return model"
      ]
    },
    {
      "cell_type": "code",
      "execution_count": 106,
      "metadata": {
        "id": "dy7rI9Grh1wj"
      },
      "outputs": [],
      "source": [
        "cnn = cnn()\n",
        "cnn.compile(optimizer = 'adam', loss= 'sparse_categorical_crossentropy', metrics=['accuracy'])"
      ]
    },
    {
      "cell_type": "code",
      "execution_count": 107,
      "metadata": {
        "colab": {
          "base_uri": "https://localhost:8080/"
        },
        "id": "AOM5YN_Fh1wj",
        "outputId": "70509316-c0f3-4f37-eacd-5f150d9c2784"
      },
      "outputs": [
        {
          "output_type": "stream",
          "name": "stdout",
          "text": [
            "Epoch 1/30\n",
            "22/22 [==============================] - 7s 124ms/step - loss: 2.3847 - accuracy: 0.4356 - val_loss: 8.0920 - val_accuracy: 0.4695\n",
            "Epoch 2/30\n",
            "22/22 [==============================] - 3s 116ms/step - loss: 1.5994 - accuracy: 0.5836 - val_loss: 5.0455 - val_accuracy: 0.6636\n",
            "Epoch 3/30\n",
            "22/22 [==============================] - 3s 117ms/step - loss: 1.3040 - accuracy: 0.6567 - val_loss: 2.9544 - val_accuracy: 0.6644\n",
            "Epoch 4/30\n",
            "22/22 [==============================] - 3s 117ms/step - loss: 1.0962 - accuracy: 0.7010 - val_loss: 1.5695 - val_accuracy: 0.6573\n",
            "Epoch 5/30\n",
            "22/22 [==============================] - 3s 118ms/step - loss: 0.9212 - accuracy: 0.7310 - val_loss: 1.0917 - val_accuracy: 0.6732\n",
            "Epoch 6/30\n",
            "22/22 [==============================] - 2s 110ms/step - loss: 0.8035 - accuracy: 0.7513 - val_loss: 0.9424 - val_accuracy: 0.6958\n",
            "Epoch 7/30\n",
            "22/22 [==============================] - 2s 110ms/step - loss: 0.7289 - accuracy: 0.7717 - val_loss: 0.9405 - val_accuracy: 0.6866\n",
            "Epoch 8/30\n",
            "22/22 [==============================] - 2s 110ms/step - loss: 0.6855 - accuracy: 0.7803 - val_loss: 0.8662 - val_accuracy: 0.7063\n",
            "Epoch 9/30\n",
            "22/22 [==============================] - 3s 118ms/step - loss: 0.6193 - accuracy: 0.7997 - val_loss: 0.8193 - val_accuracy: 0.7079\n",
            "Epoch 10/30\n",
            "22/22 [==============================] - 3s 118ms/step - loss: 0.5774 - accuracy: 0.8081 - val_loss: 0.8071 - val_accuracy: 0.7222\n",
            "Epoch 11/30\n",
            "22/22 [==============================] - 3s 117ms/step - loss: 0.5525 - accuracy: 0.8187 - val_loss: 0.9798 - val_accuracy: 0.6820\n",
            "Epoch 12/30\n",
            "22/22 [==============================] - 3s 117ms/step - loss: 0.5030 - accuracy: 0.8302 - val_loss: 0.8139 - val_accuracy: 0.7188\n",
            "Epoch 13/30\n",
            "22/22 [==============================] - 3s 117ms/step - loss: 0.5093 - accuracy: 0.8391 - val_loss: 0.8468 - val_accuracy: 0.7021\n",
            "Epoch 14/30\n",
            "22/22 [==============================] - 3s 120ms/step - loss: 0.4412 - accuracy: 0.8524 - val_loss: 0.7976 - val_accuracy: 0.7163\n",
            "Epoch 15/30\n",
            "22/22 [==============================] - 3s 118ms/step - loss: 0.4034 - accuracy: 0.8641 - val_loss: 0.8964 - val_accuracy: 0.6803\n",
            "Epoch 16/30\n",
            "22/22 [==============================] - 2s 110ms/step - loss: 0.3665 - accuracy: 0.8757 - val_loss: 0.8041 - val_accuracy: 0.7251\n",
            "Epoch 17/30\n",
            "22/22 [==============================] - 3s 117ms/step - loss: 0.3392 - accuracy: 0.8888 - val_loss: 0.9109 - val_accuracy: 0.6971\n",
            "Epoch 18/30\n",
            "22/22 [==============================] - 2s 110ms/step - loss: 0.3174 - accuracy: 0.8906 - val_loss: 0.8556 - val_accuracy: 0.7138\n",
            "Epoch 19/30\n",
            "22/22 [==============================] - 3s 120ms/step - loss: 0.2993 - accuracy: 0.9058 - val_loss: 0.8448 - val_accuracy: 0.7117\n",
            "Epoch 20/30\n",
            "22/22 [==============================] - 3s 118ms/step - loss: 0.2531 - accuracy: 0.9161 - val_loss: 0.8810 - val_accuracy: 0.6996\n",
            "Epoch 21/30\n",
            "22/22 [==============================] - 3s 117ms/step - loss: 0.2403 - accuracy: 0.9206 - val_loss: 0.8269 - val_accuracy: 0.7259\n",
            "Epoch 22/30\n",
            "22/22 [==============================] - 3s 117ms/step - loss: 0.2121 - accuracy: 0.9317 - val_loss: 0.9919 - val_accuracy: 0.7188\n",
            "Epoch 23/30\n",
            "22/22 [==============================] - 3s 117ms/step - loss: 0.1996 - accuracy: 0.9349 - val_loss: 0.8009 - val_accuracy: 0.7310\n",
            "Epoch 24/30\n",
            "22/22 [==============================] - 3s 119ms/step - loss: 0.1764 - accuracy: 0.9414 - val_loss: 0.8341 - val_accuracy: 0.7305\n",
            "Epoch 25/30\n",
            "22/22 [==============================] - 3s 116ms/step - loss: 0.1627 - accuracy: 0.9484 - val_loss: 0.8424 - val_accuracy: 0.7100\n",
            "Epoch 26/30\n",
            "22/22 [==============================] - 2s 110ms/step - loss: 0.1482 - accuracy: 0.9498 - val_loss: 0.9499 - val_accuracy: 0.7184\n",
            "Epoch 27/30\n",
            "22/22 [==============================] - 2s 110ms/step - loss: 0.1261 - accuracy: 0.9613 - val_loss: 1.0145 - val_accuracy: 0.7138\n",
            "Epoch 28/30\n",
            "22/22 [==============================] - 3s 117ms/step - loss: 0.1253 - accuracy: 0.9573 - val_loss: 0.9822 - val_accuracy: 0.7142\n",
            "Epoch 29/30\n",
            "22/22 [==============================] - 2s 110ms/step - loss: 0.1150 - accuracy: 0.9629 - val_loss: 1.0173 - val_accuracy: 0.7046\n",
            "Epoch 30/30\n",
            "22/22 [==============================] - 2s 110ms/step - loss: 0.1176 - accuracy: 0.9618 - val_loss: 1.2360 - val_accuracy: 0.6682\n"
          ]
        },
        {
          "output_type": "execute_result",
          "data": {
            "text/plain": [
              "<keras.callbacks.History at 0x7f3e629d5d50>"
            ]
          },
          "metadata": {},
          "execution_count": 107
        }
      ],
      "source": [
        "cnn.fit(X_train_img, y_train, batch_size=256, epochs=30, validation_split=0.3)"
      ]
    },
    {
      "cell_type": "code",
      "execution_count": 108,
      "metadata": {
        "colab": {
          "base_uri": "https://localhost:8080/"
        },
        "id": "pXYs9pD3h1wj",
        "outputId": "5537f091-2028-449c-d784-b6b06a0e9db4"
      },
      "outputs": [
        {
          "output_type": "stream",
          "name": "stdout",
          "text": [
            "63/63 [==============================] - 0s 3ms/step\n",
            "Accuracy score: 0.6686746987951807\n",
            "F1 score: 0.6478484779786376\n",
            "Precision score: 0.7097094034157636\n",
            "Recall score: 0.6686746987951807\n"
          ]
        }
      ],
      "source": [
        "# Use the trained model to make predictions on the test data\n",
        "output_metrics(cnn, X_test_img, y_test)"
      ]
    },
    {
      "cell_type": "code",
      "execution_count": 109,
      "metadata": {
        "id": "OGUmr8zEfoyN"
      },
      "outputs": [],
      "source": [
        "def mlp():\n",
        "  model = Sequential()\n",
        "  model.add(Input(shape=(3,)))\n",
        "  model.add(Flatten())\n",
        "  model.add(Dense(128, activation='relu'))\n",
        "  model.add(BatchNormalization())\n",
        "  model.add(Dropout(0.5))\n",
        "  model.add(Dense(64, activation='relu'))\n",
        "  model.add(BatchNormalization())\n",
        "  model.add(Dense(len(df['cell_type_idx'].unique()), activation='softmax'))\n",
        "  return model"
      ]
    },
    {
      "cell_type": "code",
      "execution_count": 110,
      "metadata": {
        "id": "rPcqdn7Q4wuN"
      },
      "outputs": [],
      "source": [
        "mlp = mlp()\n",
        "mlp.compile(optimizer = 'adam', loss= 'sparse_categorical_crossentropy', metrics=['accuracy'])"
      ]
    },
    {
      "cell_type": "code",
      "execution_count": 111,
      "metadata": {
        "id": "wLW-BnNM5Twr"
      },
      "outputs": [],
      "source": [
        "sex_dict = {\n",
        "    'male': 0.0,\n",
        "    'female': 1.0,\n",
        "    'unknown': 1.5\n",
        "}\n",
        "\n",
        "loc_dict = {\n",
        "    'back': 1.0,\n",
        "    'lower extremity': 2.0,\n",
        "    'trunk': 3.0,\n",
        "    'upper extremity': 4.0,\n",
        "    'abdomen': 5.0,\n",
        "    'face': 6.0,\n",
        "    'chest': 7.0,\n",
        "    'foot': 8.0,\n",
        "    'unknown': 9.0,\n",
        "    'neck': 10.0,\n",
        "    'scalp': 11.0,\n",
        "    'hand': 12.0,\n",
        "    'ear': 13.0,\n",
        "    'genital': 14.0,\n",
        "    'acral': 15.0\n",
        "}"
      ]
    },
    {
      "cell_type": "code",
      "execution_count": 112,
      "metadata": {
        "id": "0gcwGXcG8kpf"
      },
      "outputs": [],
      "source": [
        "train_df = train_df.replace({\"sex\": sex_dict})\n",
        "train_df = train_df.replace({\"localization\": loc_dict})\n",
        "test_df = test_df.replace({\"sex\": sex_dict})\n",
        "test_df = test_df.replace({\"localization\": loc_dict})"
      ]
    },
    {
      "cell_type": "code",
      "execution_count": 113,
      "metadata": {
        "id": "tSY7j4CQ5BO4"
      },
      "outputs": [],
      "source": [
        "#Extract and recombine the demographic data for training set and test set\n",
        "X_train_demo = np.stack((np.asarray(train_df['age'].values), np.asarray(train_df['sex'].values), np.asarray(train_df['localization'].values)))\n",
        "y_train = train_df['cell_type_idx'].values\n",
        "X_test_demo = np.stack((np.asarray(test_df['age'].values), np.asarray(test_df['sex'].values), np.asarray(test_df['localization'].values)))\n",
        "y_test = test_df['cell_type_idx'].values\n",
        "\n",
        "X_train_demo=X_train_demo.T.astype(int)\n",
        "X_test_demo=X_test_demo.T.astype(int)"
      ]
    },
    {
      "cell_type": "code",
      "execution_count": 114,
      "metadata": {
        "colab": {
          "base_uri": "https://localhost:8080/"
        },
        "id": "9aD8oVOq46M4",
        "outputId": "834faf78-fa47-480e-c46b-1283eeb0793f"
      },
      "outputs": [
        {
          "output_type": "stream",
          "name": "stdout",
          "text": [
            "Epoch 1/30\n",
            "22/22 [==============================] - 2s 15ms/step - loss: 2.1413 - accuracy: 0.2756 - val_loss: 6.3673 - val_accuracy: 0.0385\n",
            "Epoch 2/30\n",
            "22/22 [==============================] - 0s 7ms/step - loss: 1.7477 - accuracy: 0.5009 - val_loss: 5.7461 - val_accuracy: 0.1243\n",
            "Epoch 3/30\n",
            "22/22 [==============================] - 0s 8ms/step - loss: 1.5666 - accuracy: 0.5647 - val_loss: 4.9002 - val_accuracy: 0.1674\n",
            "Epoch 4/30\n",
            "22/22 [==============================] - 0s 6ms/step - loss: 1.4426 - accuracy: 0.5977 - val_loss: 3.7160 - val_accuracy: 0.2351\n",
            "Epoch 5/30\n",
            "22/22 [==============================] - 0s 7ms/step - loss: 1.3468 - accuracy: 0.6142 - val_loss: 2.6224 - val_accuracy: 0.3339\n",
            "Epoch 6/30\n",
            "22/22 [==============================] - 0s 9ms/step - loss: 1.2762 - accuracy: 0.6277 - val_loss: 1.8955 - val_accuracy: 0.4762\n",
            "Epoch 7/30\n",
            "22/22 [==============================] - 0s 7ms/step - loss: 1.1861 - accuracy: 0.6428 - val_loss: 1.4937 - val_accuracy: 0.5632\n",
            "Epoch 8/30\n",
            "22/22 [==============================] - 0s 8ms/step - loss: 1.1327 - accuracy: 0.6469 - val_loss: 1.2176 - val_accuracy: 0.6167\n",
            "Epoch 9/30\n",
            "22/22 [==============================] - 0s 9ms/step - loss: 1.0800 - accuracy: 0.6616 - val_loss: 1.1064 - val_accuracy: 0.6456\n",
            "Epoch 10/30\n",
            "22/22 [==============================] - 0s 9ms/step - loss: 1.0560 - accuracy: 0.6654 - val_loss: 1.0472 - val_accuracy: 0.6665\n",
            "Epoch 11/30\n",
            "22/22 [==============================] - 0s 7ms/step - loss: 1.0384 - accuracy: 0.6654 - val_loss: 1.0228 - val_accuracy: 0.6590\n",
            "Epoch 12/30\n",
            "22/22 [==============================] - 0s 7ms/step - loss: 1.0259 - accuracy: 0.6702 - val_loss: 1.0095 - val_accuracy: 0.6661\n",
            "Epoch 13/30\n",
            "22/22 [==============================] - 0s 7ms/step - loss: 1.0195 - accuracy: 0.6704 - val_loss: 0.9968 - val_accuracy: 0.6669\n",
            "Epoch 14/30\n",
            "22/22 [==============================] - 0s 6ms/step - loss: 1.0150 - accuracy: 0.6749 - val_loss: 0.9968 - val_accuracy: 0.6707\n",
            "Epoch 15/30\n",
            "22/22 [==============================] - 0s 7ms/step - loss: 1.0107 - accuracy: 0.6718 - val_loss: 0.9943 - val_accuracy: 0.6711\n",
            "Epoch 16/30\n",
            "22/22 [==============================] - 0s 7ms/step - loss: 1.0075 - accuracy: 0.6743 - val_loss: 0.9921 - val_accuracy: 0.6703\n",
            "Epoch 17/30\n",
            "22/22 [==============================] - 0s 8ms/step - loss: 1.0097 - accuracy: 0.6657 - val_loss: 0.9906 - val_accuracy: 0.6762\n",
            "Epoch 18/30\n",
            "22/22 [==============================] - 0s 6ms/step - loss: 1.0077 - accuracy: 0.6706 - val_loss: 0.9907 - val_accuracy: 0.6757\n",
            "Epoch 19/30\n",
            "22/22 [==============================] - 0s 7ms/step - loss: 0.9962 - accuracy: 0.6731 - val_loss: 0.9838 - val_accuracy: 0.6762\n",
            "Epoch 20/30\n",
            "22/22 [==============================] - 0s 6ms/step - loss: 1.0004 - accuracy: 0.6740 - val_loss: 0.9841 - val_accuracy: 0.6736\n",
            "Epoch 21/30\n",
            "22/22 [==============================] - 0s 7ms/step - loss: 1.0014 - accuracy: 0.6714 - val_loss: 0.9855 - val_accuracy: 0.6728\n",
            "Epoch 22/30\n",
            "22/22 [==============================] - 0s 6ms/step - loss: 0.9978 - accuracy: 0.6741 - val_loss: 0.9841 - val_accuracy: 0.6749\n",
            "Epoch 23/30\n",
            "22/22 [==============================] - 0s 7ms/step - loss: 0.9935 - accuracy: 0.6740 - val_loss: 0.9840 - val_accuracy: 0.6787\n",
            "Epoch 24/30\n",
            "22/22 [==============================] - 0s 8ms/step - loss: 0.9966 - accuracy: 0.6750 - val_loss: 0.9856 - val_accuracy: 0.6741\n",
            "Epoch 25/30\n",
            "22/22 [==============================] - 0s 10ms/step - loss: 0.9893 - accuracy: 0.6810 - val_loss: 0.9829 - val_accuracy: 0.6741\n",
            "Epoch 26/30\n",
            "22/22 [==============================] - 0s 11ms/step - loss: 0.9946 - accuracy: 0.6750 - val_loss: 0.9841 - val_accuracy: 0.6745\n",
            "Epoch 27/30\n",
            "22/22 [==============================] - 0s 10ms/step - loss: 0.9956 - accuracy: 0.6727 - val_loss: 0.9786 - val_accuracy: 0.6753\n",
            "Epoch 28/30\n",
            "22/22 [==============================] - 0s 11ms/step - loss: 0.9942 - accuracy: 0.6732 - val_loss: 0.9811 - val_accuracy: 0.6745\n",
            "Epoch 29/30\n",
            "22/22 [==============================] - 0s 11ms/step - loss: 0.9919 - accuracy: 0.6752 - val_loss: 0.9806 - val_accuracy: 0.6770\n",
            "Epoch 30/30\n",
            "22/22 [==============================] - 0s 11ms/step - loss: 1.0004 - accuracy: 0.6716 - val_loss: 0.9800 - val_accuracy: 0.6749\n"
          ]
        },
        {
          "output_type": "execute_result",
          "data": {
            "text/plain": [
              "<keras.callbacks.History at 0x7f3e5e9f7940>"
            ]
          },
          "metadata": {},
          "execution_count": 114
        }
      ],
      "source": [
        "mlp.fit(X_train_demo, y_train, batch_size=256, epochs=30, validation_split=0.3)"
      ]
    },
    {
      "cell_type": "code",
      "execution_count": 115,
      "metadata": {
        "colab": {
          "base_uri": "https://localhost:8080/"
        },
        "id": "1LeB20StRGXT",
        "outputId": "e74886db-4c56-4f50-917c-92f50c1e0556"
      },
      "outputs": [
        {
          "output_type": "stream",
          "name": "stdout",
          "text": [
            "63/63 [==============================] - 0s 2ms/step\n",
            "Accuracy score: 0.6772088353413654\n",
            "F1 score: 0.5603128659310151\n",
            "Precision score: 0.5030501602974999\n",
            "Recall score: 0.6772088353413654\n"
          ]
        },
        {
          "output_type": "stream",
          "name": "stderr",
          "text": [
            "/usr/local/lib/python3.10/dist-packages/sklearn/metrics/_classification.py:1344: UndefinedMetricWarning: Precision is ill-defined and being set to 0.0 in labels with no predicted samples. Use `zero_division` parameter to control this behavior.\n",
            "  _warn_prf(average, modifier, msg_start, len(result))\n"
          ]
        }
      ],
      "source": [
        "# Use the trained model to make predictions on the test data\n",
        "output_metrics(mlp, X_test_demo, y_test)"
      ]
    },
    {
      "cell_type": "markdown",
      "source": [
        "# Combined 1 - Training the combined model with the previously trained CNN and MLP"
      ],
      "metadata": {
        "id": "C3sRTd0GktN-"
      }
    },
    {
      "cell_type": "code",
      "source": [
        "combinedInput = concatenate(inputs=[mlp.output, cnn.output])\n",
        "# our final FC layer head will have two dense layers, the final one\n",
        "# being our regression head\n",
        "x = Dense(128, activation=\"relu\")(combinedInput)\n",
        "x = Dense(64, activation=\"relu\")(x)\n",
        "x = Dense(len(df['cell_type_idx'].unique()), activation='softmax')(x)\n",
        "model = Model(inputs=[mlp.input, cnn.input], outputs=x)\n",
        "\n",
        "model.compile(loss=\"sparse_categorical_crossentropy\", optimizer='adam', metrics=['accuracy'])\n",
        "\n",
        "model.fit([X_train_demo, X_train_img], y_train, batch_size=256, epochs=30, validation_split=0.3)"
      ],
      "metadata": {
        "colab": {
          "base_uri": "https://localhost:8080/"
        },
        "id": "eD_q9ekBkvaX",
        "outputId": "bce4624d-f583-4cff-fedc-e366e785f3e3"
      },
      "execution_count": 116,
      "outputs": [
        {
          "output_type": "stream",
          "name": "stdout",
          "text": [
            "Epoch 1/30\n",
            "22/22 [==============================] - 9s 147ms/step - loss: 1.6322 - accuracy: 0.6562 - val_loss: 1.3945 - val_accuracy: 0.6791\n",
            "Epoch 2/30\n",
            "22/22 [==============================] - 3s 119ms/step - loss: 0.9034 - accuracy: 0.7760 - val_loss: 1.0336 - val_accuracy: 0.6770\n",
            "Epoch 3/30\n",
            "22/22 [==============================] - 2s 112ms/step - loss: 0.4648 - accuracy: 0.8967 - val_loss: 1.1768 - val_accuracy: 0.6883\n",
            "Epoch 4/30\n",
            "22/22 [==============================] - 2s 112ms/step - loss: 0.3277 - accuracy: 0.9137 - val_loss: 1.1414 - val_accuracy: 0.6891\n",
            "Epoch 5/30\n",
            "22/22 [==============================] - 2s 112ms/step - loss: 0.2948 - accuracy: 0.9184 - val_loss: 1.2379 - val_accuracy: 0.6042\n",
            "Epoch 6/30\n",
            "22/22 [==============================] - 3s 121ms/step - loss: 0.2641 - accuracy: 0.9245 - val_loss: 1.3245 - val_accuracy: 0.6318\n",
            "Epoch 7/30\n",
            "22/22 [==============================] - 3s 119ms/step - loss: 0.2384 - accuracy: 0.9292 - val_loss: 0.9692 - val_accuracy: 0.7105\n",
            "Epoch 8/30\n",
            "22/22 [==============================] - 3s 119ms/step - loss: 0.2004 - accuracy: 0.9412 - val_loss: 1.7957 - val_accuracy: 0.6695\n",
            "Epoch 9/30\n",
            "22/22 [==============================] - 3s 120ms/step - loss: 0.2100 - accuracy: 0.9363 - val_loss: 1.3123 - val_accuracy: 0.7013\n",
            "Epoch 10/30\n",
            "22/22 [==============================] - 3s 120ms/step - loss: 0.1812 - accuracy: 0.9475 - val_loss: 1.3003 - val_accuracy: 0.5799\n",
            "Epoch 11/30\n",
            "22/22 [==============================] - 3s 121ms/step - loss: 0.2099 - accuracy: 0.9397 - val_loss: 1.0634 - val_accuracy: 0.7209\n",
            "Epoch 12/30\n",
            "22/22 [==============================] - 3s 118ms/step - loss: 0.1798 - accuracy: 0.9489 - val_loss: 0.8356 - val_accuracy: 0.7368\n",
            "Epoch 13/30\n",
            "22/22 [==============================] - 2s 114ms/step - loss: 0.1540 - accuracy: 0.9575 - val_loss: 0.9967 - val_accuracy: 0.7184\n",
            "Epoch 14/30\n",
            "22/22 [==============================] - 2s 112ms/step - loss: 0.1541 - accuracy: 0.9564 - val_loss: 1.0165 - val_accuracy: 0.7377\n",
            "Epoch 15/30\n",
            "22/22 [==============================] - 3s 121ms/step - loss: 0.1496 - accuracy: 0.9566 - val_loss: 1.1093 - val_accuracy: 0.6912\n",
            "Epoch 16/30\n",
            "22/22 [==============================] - 3s 120ms/step - loss: 0.1435 - accuracy: 0.9562 - val_loss: 1.0750 - val_accuracy: 0.7029\n",
            "Epoch 17/30\n",
            "22/22 [==============================] - 3s 119ms/step - loss: 0.1304 - accuracy: 0.9627 - val_loss: 1.4135 - val_accuracy: 0.7075\n",
            "Epoch 18/30\n",
            "22/22 [==============================] - 3s 119ms/step - loss: 0.1166 - accuracy: 0.9652 - val_loss: 1.0806 - val_accuracy: 0.7385\n",
            "Epoch 19/30\n",
            "22/22 [==============================] - 3s 119ms/step - loss: 0.1089 - accuracy: 0.9688 - val_loss: 1.1063 - val_accuracy: 0.7297\n",
            "Epoch 20/30\n",
            "22/22 [==============================] - 3s 124ms/step - loss: 0.1086 - accuracy: 0.9688 - val_loss: 1.0596 - val_accuracy: 0.7318\n",
            "Epoch 21/30\n",
            "22/22 [==============================] - 3s 119ms/step - loss: 0.1138 - accuracy: 0.9661 - val_loss: 1.5936 - val_accuracy: 0.6962\n",
            "Epoch 22/30\n",
            "22/22 [==============================] - 3s 119ms/step - loss: 0.1294 - accuracy: 0.9627 - val_loss: 1.4175 - val_accuracy: 0.7008\n",
            "Epoch 23/30\n",
            "22/22 [==============================] - 2s 111ms/step - loss: 0.1222 - accuracy: 0.9659 - val_loss: 1.2283 - val_accuracy: 0.7100\n",
            "Epoch 24/30\n",
            "22/22 [==============================] - 2s 113ms/step - loss: 0.1002 - accuracy: 0.9697 - val_loss: 1.1800 - val_accuracy: 0.7167\n",
            "Epoch 25/30\n",
            "22/22 [==============================] - 3s 115ms/step - loss: 0.0895 - accuracy: 0.9747 - val_loss: 1.0750 - val_accuracy: 0.7351\n",
            "Epoch 26/30\n",
            "22/22 [==============================] - 2s 112ms/step - loss: 0.1030 - accuracy: 0.9693 - val_loss: 1.2369 - val_accuracy: 0.7255\n",
            "Epoch 27/30\n",
            "22/22 [==============================] - 3s 119ms/step - loss: 0.0967 - accuracy: 0.9715 - val_loss: 1.2941 - val_accuracy: 0.7276\n",
            "Epoch 28/30\n",
            "22/22 [==============================] - 2s 112ms/step - loss: 0.0798 - accuracy: 0.9765 - val_loss: 1.0706 - val_accuracy: 0.7372\n",
            "Epoch 29/30\n",
            "22/22 [==============================] - 3s 121ms/step - loss: 0.0698 - accuracy: 0.9783 - val_loss: 1.1547 - val_accuracy: 0.7406\n",
            "Epoch 30/30\n",
            "22/22 [==============================] - 3s 120ms/step - loss: 0.0820 - accuracy: 0.9767 - val_loss: 0.9315 - val_accuracy: 0.7427\n"
          ]
        },
        {
          "output_type": "execute_result",
          "data": {
            "text/plain": [
              "<keras.callbacks.History at 0x7f3e5e6b97e0>"
            ]
          },
          "metadata": {},
          "execution_count": 116
        }
      ]
    },
    {
      "cell_type": "code",
      "source": [
        "output_metrics(model, [X_test_demo, X_test_img], y_test)"
      ],
      "metadata": {
        "colab": {
          "base_uri": "https://localhost:8080/"
        },
        "id": "jo8Z3xsCnGAq",
        "outputId": "65795133-fba1-4f55-ba9b-b557ab2375e9"
      },
      "execution_count": 117,
      "outputs": [
        {
          "output_type": "stream",
          "name": "stdout",
          "text": [
            "63/63 [==============================] - 0s 3ms/step\n",
            "Accuracy score: 0.7449799196787149\n",
            "F1 score: 0.7198458169609947\n",
            "Precision score: 0.7239105234344776\n",
            "Recall score: 0.7449799196787149\n"
          ]
        }
      ]
    },
    {
      "cell_type": "markdown",
      "source": [
        "# Combined 2 - Training the combined model from scratch"
      ],
      "metadata": {
        "id": "8JzZnjZYg0c6"
      }
    },
    {
      "cell_type": "code",
      "source": [
        "def cnn():\n",
        "  model = Sequential()\n",
        "  model.add(Conv2D(64, (3, 3), activation='relu', input_shape=(image_size[0], image_size[1], 3)))\n",
        "  model.add(BatchNormalization())\n",
        "  model.add(MaxPool2D((2, 2)))\n",
        "  model.add(BatchNormalization())\n",
        "  model.add(Conv2D(128, (3, 3), activation='relu'))\n",
        "  model.add(Dropout(0.6))\n",
        "  model.add(BatchNormalization())\n",
        "  model.add(MaxPool2D((2, 2)))\n",
        "  model.add(BatchNormalization())\n",
        "  model.add(Flatten())\n",
        "  model.add(Dense(256, activation='relu'))\n",
        "  model.add(BatchNormalization())\n",
        "  model.add(Dropout(0.6))\n",
        "  model.add(Dense(len(df['cell_type_idx'].unique()), activation='softmax'))\n",
        "  return model\n",
        "\n",
        "def mlp():\n",
        "  model = Sequential()\n",
        "  model.add(Input(shape=(3,)))\n",
        "  model.add(Flatten())\n",
        "  model.add(Dense(128, activation='relu'))\n",
        "  model.add(Dropout(0.5))\n",
        "  model.add(Dense(64, activation='relu'))\n",
        "  model.add(Dense(len(df['cell_type_idx'].unique()), activation='softmax'))\n",
        "  return model"
      ],
      "metadata": {
        "id": "Hz15kGGQU_rI"
      },
      "execution_count": 118,
      "outputs": []
    },
    {
      "cell_type": "code",
      "execution_count": 119,
      "metadata": {
        "id": "mRBivVXsRuZf"
      },
      "outputs": [],
      "source": [
        "mlp = mlp()\n",
        "cnn = cnn()\n",
        "# create the input to our final set of layers as the *output* of both\n",
        "# the MLP and CNN\n",
        "combinedInput = concatenate(inputs=[mlp.output, cnn.output])\n",
        "# our final FC layer head will have two dense layers, the final one\n",
        "# being our regression head\n",
        "x = Dense(128, activation=\"relu\")(combinedInput)\n",
        "x = Dense(64, activation=\"relu\")(x)\n",
        "x = Dense(len(df['cell_type_idx'].unique()), activation='softmax')(x)\n",
        "model = Model(inputs=[mlp.input, cnn.input], outputs=x)"
      ]
    },
    {
      "cell_type": "code",
      "source": [
        "model.compile(loss=\"sparse_categorical_crossentropy\", optimizer='adam', metrics=['accuracy'])\n",
        "\n",
        "model.fit([X_train_demo, X_train_img], y_train, batch_size=256, epochs=30, validation_split=0.3)"
      ],
      "metadata": {
        "colab": {
          "base_uri": "https://localhost:8080/"
        },
        "id": "tBDdlLBbVRQZ",
        "outputId": "604a3747-88e1-4c12-df2c-a1c2997e31d4"
      },
      "execution_count": 121,
      "outputs": [
        {
          "output_type": "stream",
          "name": "stdout",
          "text": [
            "Epoch 1/30\n",
            "22/22 [==============================] - 8s 132ms/step - loss: 1.5461 - accuracy: 0.6080 - val_loss: 1.2432 - val_accuracy: 0.6657\n",
            "Epoch 2/30\n",
            "22/22 [==============================] - 3s 117ms/step - loss: 1.1050 - accuracy: 0.6702 - val_loss: 1.2575 - val_accuracy: 0.6657\n",
            "Epoch 3/30\n",
            "22/22 [==============================] - 3s 121ms/step - loss: 0.9841 - accuracy: 0.6702 - val_loss: 1.4305 - val_accuracy: 0.6657\n",
            "Epoch 4/30\n",
            "22/22 [==============================] - 2s 111ms/step - loss: 0.9093 - accuracy: 0.6702 - val_loss: 1.4268 - val_accuracy: 0.6657\n",
            "Epoch 5/30\n",
            "22/22 [==============================] - 3s 119ms/step - loss: 0.8686 - accuracy: 0.6793 - val_loss: 1.6647 - val_accuracy: 0.6657\n",
            "Epoch 6/30\n",
            "22/22 [==============================] - 3s 119ms/step - loss: 0.8293 - accuracy: 0.6901 - val_loss: 1.4503 - val_accuracy: 0.6510\n",
            "Epoch 7/30\n",
            "22/22 [==============================] - 2s 112ms/step - loss: 0.8085 - accuracy: 0.7062 - val_loss: 1.0756 - val_accuracy: 0.6636\n",
            "Epoch 8/30\n",
            "22/22 [==============================] - 3s 121ms/step - loss: 0.7975 - accuracy: 0.7109 - val_loss: 1.5515 - val_accuracy: 0.6665\n",
            "Epoch 9/30\n",
            "22/22 [==============================] - 2s 111ms/step - loss: 0.7788 - accuracy: 0.7129 - val_loss: 1.5191 - val_accuracy: 0.6690\n",
            "Epoch 10/30\n",
            "22/22 [==============================] - 3s 118ms/step - loss: 0.7631 - accuracy: 0.7258 - val_loss: 0.9073 - val_accuracy: 0.6732\n",
            "Epoch 11/30\n",
            "22/22 [==============================] - 2s 112ms/step - loss: 0.7621 - accuracy: 0.7161 - val_loss: 1.0055 - val_accuracy: 0.5820\n",
            "Epoch 12/30\n",
            "22/22 [==============================] - 3s 120ms/step - loss: 0.7444 - accuracy: 0.7274 - val_loss: 0.9299 - val_accuracy: 0.6833\n",
            "Epoch 13/30\n",
            "22/22 [==============================] - 3s 115ms/step - loss: 0.7340 - accuracy: 0.7335 - val_loss: 0.8991 - val_accuracy: 0.6615\n",
            "Epoch 14/30\n",
            "22/22 [==============================] - 3s 119ms/step - loss: 0.7346 - accuracy: 0.7251 - val_loss: 0.8423 - val_accuracy: 0.7075\n",
            "Epoch 15/30\n",
            "22/22 [==============================] - 3s 119ms/step - loss: 0.7315 - accuracy: 0.7292 - val_loss: 1.1932 - val_accuracy: 0.5213\n",
            "Epoch 16/30\n",
            "22/22 [==============================] - 3s 119ms/step - loss: 0.7044 - accuracy: 0.7409 - val_loss: 1.3862 - val_accuracy: 0.4787\n",
            "Epoch 17/30\n",
            "22/22 [==============================] - 3s 121ms/step - loss: 0.6843 - accuracy: 0.7491 - val_loss: 1.6173 - val_accuracy: 0.3351\n",
            "Epoch 18/30\n",
            "22/22 [==============================] - 2s 113ms/step - loss: 0.6747 - accuracy: 0.7522 - val_loss: 1.1514 - val_accuracy: 0.5377\n",
            "Epoch 19/30\n",
            "22/22 [==============================] - 3s 119ms/step - loss: 0.6616 - accuracy: 0.7559 - val_loss: 1.1039 - val_accuracy: 0.5715\n",
            "Epoch 20/30\n",
            "22/22 [==============================] - 2s 112ms/step - loss: 0.6498 - accuracy: 0.7565 - val_loss: 1.0059 - val_accuracy: 0.6008\n",
            "Epoch 21/30\n",
            "22/22 [==============================] - 2s 111ms/step - loss: 0.6350 - accuracy: 0.7627 - val_loss: 1.4566 - val_accuracy: 0.4029\n",
            "Epoch 22/30\n",
            "22/22 [==============================] - 3s 115ms/step - loss: 0.6289 - accuracy: 0.7660 - val_loss: 0.9868 - val_accuracy: 0.6264\n",
            "Epoch 23/30\n",
            "22/22 [==============================] - 2s 112ms/step - loss: 0.6107 - accuracy: 0.7735 - val_loss: 1.0629 - val_accuracy: 0.6079\n",
            "Epoch 24/30\n",
            "22/22 [==============================] - 3s 119ms/step - loss: 0.6109 - accuracy: 0.7753 - val_loss: 1.1999 - val_accuracy: 0.5866\n",
            "Epoch 25/30\n",
            "22/22 [==============================] - 3s 119ms/step - loss: 0.5772 - accuracy: 0.7855 - val_loss: 1.3191 - val_accuracy: 0.4397\n",
            "Epoch 26/30\n",
            "22/22 [==============================] - 2s 112ms/step - loss: 0.5699 - accuracy: 0.7936 - val_loss: 0.9148 - val_accuracy: 0.6682\n",
            "Epoch 27/30\n",
            "22/22 [==============================] - 3s 116ms/step - loss: 0.5597 - accuracy: 0.7968 - val_loss: 0.9566 - val_accuracy: 0.6912\n",
            "Epoch 28/30\n",
            "22/22 [==============================] - 3s 118ms/step - loss: 0.5380 - accuracy: 0.8067 - val_loss: 1.2129 - val_accuracy: 0.5946\n",
            "Epoch 29/30\n",
            "22/22 [==============================] - 2s 111ms/step - loss: 0.5368 - accuracy: 0.8085 - val_loss: 1.0437 - val_accuracy: 0.6820\n",
            "Epoch 30/30\n",
            "22/22 [==============================] - 3s 118ms/step - loss: 0.5196 - accuracy: 0.8178 - val_loss: 0.8561 - val_accuracy: 0.6904\n"
          ]
        },
        {
          "output_type": "execute_result",
          "data": {
            "text/plain": [
              "<keras.callbacks.History at 0x7f3e62af7f10>"
            ]
          },
          "metadata": {},
          "execution_count": 121
        }
      ]
    },
    {
      "cell_type": "code",
      "source": [
        "output_metrics(model, [X_test_demo, X_test_img], y_test)"
      ],
      "metadata": {
        "colab": {
          "base_uri": "https://localhost:8080/"
        },
        "id": "hRLABvu5aUCW",
        "outputId": "f78c2623-3bed-438b-f0a0-f6fa26f3e924"
      },
      "execution_count": 138,
      "outputs": [
        {
          "output_type": "stream",
          "name": "stdout",
          "text": [
            "63/63 [==============================] - 0s 5ms/step\n",
            "Accuracy score: 0.6907630522088354\n",
            "F1 score: 0.6808304521842057\n",
            "Precision score: 0.7134948433986945\n",
            "Recall score: 0.6907630522088354\n"
          ]
        },
        {
          "output_type": "stream",
          "name": "stderr",
          "text": [
            "/usr/local/lib/python3.10/dist-packages/sklearn/metrics/_classification.py:1344: UndefinedMetricWarning: Precision is ill-defined and being set to 0.0 in labels with no predicted samples. Use `zero_division` parameter to control this behavior.\n",
            "  _warn_prf(average, modifier, msg_start, len(result))\n"
          ]
        }
      ]
    }
  ],
  "metadata": {
    "accelerator": "GPU",
    "colab": {
      "provenance": []
    },
    "gpuClass": "standard",
    "kernelspec": {
      "display_name": "Python 3 (ipykernel)",
      "language": "python",
      "name": "python3"
    },
    "language_info": {
      "codemirror_mode": {
        "name": "ipython",
        "version": 3
      },
      "file_extension": ".py",
      "mimetype": "text/x-python",
      "name": "python",
      "nbconvert_exporter": "python",
      "pygments_lexer": "ipython3",
      "version": "3.10.11"
    }
  },
  "nbformat": 4,
  "nbformat_minor": 0
}