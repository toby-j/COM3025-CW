{
 "cells": [
  {
   "cell_type": "code",
   "execution_count": 1,
   "metadata": {
    "collapsed": true
   },
   "outputs": [
    {
     "name": "stderr",
     "output_type": "stream",
     "text": [
      "\n",
      "KeyboardInterrupt\n",
      "\n"
     ]
    }
   ],
   "source": [
    "# General\n",
    "import os, pickle\n",
    "from pathlib import Path\n",
    "from tqdm import tqdm\n",
    "\n",
    "# Data manipulation\n",
    "import pandas as pd\n",
    "import numpy as np\n",
    "from random import sample, shuffle, randint\n",
    "from sklearn import metrics, model_selection\n",
    "from math import ceil\n",
    "\n",
    "# Options for pandas\n",
    "pd.options.display.max_columns = 50\n",
    "pd.options.display.max_rows = 30\n",
    "\n",
    "# Image manipulation\n",
    "import PIL, cv2\n",
    "from skimage.io import imread, imshow\n",
    "\n",
    "# Visualizations\n",
    "import matplotlib as plt\n",
    "import matplotlib.patches as patches\n",
    "import seaborn as sns\n",
    "import fastai2\n",
    "# Matplotlib options\n",
    "plt.rcParams['font.size']=14\n",
    "\n",
    "# DL libraries\n",
    "from fastai2.basics import *\n",
    "from fastai2.callback.all import *\n",
    "from fastai2.vision.all import *\n",
    "from torch import torch\n",
    "from keras.preprocessing.image import ImageDataGenerator, img_to_array, array_to_img, load_img\n"
   ]
  },
  {
   "cell_type": "code",
   "execution_count": null,
   "outputs": [],
   "source": [
    "GT = pd.read_csv('/content/GroundTruth.csv')\n",
    "gt = GT.sum().to_frame().reset_index().drop(0)\n",
    "gt.columns = ['toc', 'sum']\n",
    "\n",
    "plt.figure(figsize=(15,9))\n",
    "explode = [0, 0.1, 0, 0, 0, 0, 0]\n",
    "plt.pie(gt['sum'], labels=gt['toc'],explode=explode, autopct='%.0f%%')\n",
    "plt.show()"
   ],
   "metadata": {
    "collapsed": false
   }
  },
  {
   "cell_type": "code",
   "execution_count": null,
   "outputs": [],
   "source": [
    "data_path = Path(\"/content/skin-cancer-mnist-ham10000\")\n",
    "print(os.listdir(data_path))"
   ],
   "metadata": {
    "collapsed": false
   }
  },
  {
   "cell_type": "code",
   "execution_count": null,
   "outputs": [],
   "source": [
    "csv_path = data_path / 'HAM10000_metadata.csv'\n",
    "df_data=pd.read_csv(csv_path).set_index('image_id')\n",
    "df_data.head()"
   ],
   "metadata": {
    "collapsed": false
   }
  },
  {
   "cell_type": "code",
   "execution_count": null,
   "outputs": [],
   "source": [
    "def bar_plt(y, x, title):\n",
    "    sns.barplot(y=y, x=x, palette=\"dark\")\n",
    "    plt.xticks(rotation=60, fontsize=11)\n",
    "    plt.yticks(fontsize=14)\n",
    "    plt.title(title, fontsize=14, pad=20)"
   ],
   "metadata": {
    "collapsed": false
   }
  },
  {
   "cell_type": "code",
   "execution_count": null,
   "outputs": [],
   "source": [
    "def show_examples(df, col, n_samples = 5):\n",
    "    \"Show `n_samples` of each type of value in `col` of dataframe `df`\"\n",
    "    groups = df.sort_values([col]).groupby(col)\n",
    "    n_rows = len(groups)\n",
    "    fig, m_axs = plt.subplots(n_rows, n_samples, figsize = (3*n_samples, 2*n_rows))\n",
    "    for n_axs, (type_name, type_rows) in zip(m_axs,groups):\n",
    "        n_axs[0].set_title(type_name)\n",
    "        for c_ax, (_, c_row) in zip(n_axs, type_rows.sample(n_samples).iterrows()):\n",
    "            c_ax.imshow(imread(c_row['path']))\n",
    "            c_ax.axis('off')"
   ],
   "metadata": {
    "collapsed": false
   }
  },
  {
   "cell_type": "code",
   "execution_count": null,
   "outputs": [],
   "source": [
    "# Categories of the diferent diseases (thanks to kaggle.com/ingbiodanielh/skin-cancer-classification-with-resnet-50-fastai)\n",
    "lesion_type_dict = {\n",
    "    'nv': 'Melanocytic nevi',\n",
    "    'mel': 'Melanoma',\n",
    "    'bkl': 'Benign keratosis ',\n",
    "    'bcc': 'Basal cell carcinoma',\n",
    "    'akiec': 'Actinic keratoses',\n",
    "    'vasc': 'Vascular lesions',\n",
    "    'df': 'Dermatofibroma'\n",
    "}\n",
    "\n",
    "df_data.dx=df_data.dx.astype('category',copy=True)\n",
    "df_data['label']=df_data.dx.cat.codes # Convert the labels to numbers\n",
    "df_data['lesion_type']= df_data.dx.map(lesion_type_dict)\n",
    "df_data.head()"
   ],
   "metadata": {
    "collapsed": false
   }
  },
  {
   "cell_type": "code",
   "execution_count": null,
   "outputs": [],
   "source": [
    "# for some reason the images are spread over two folders, HAM10000_images_part_1 and ...part_2\n",
    "# add a column to the df with the path to the correct folders\n",
    "\n",
    "# {filename : path} for all files in both image folders\n",
    "imageid_path_dict = {str(x).split('/')[-1][:-4]: str(x) for x in list(data_path.glob('*/*.jpg'))}\n",
    "\n",
    "# use {filename: path} dict to select items from the correct folders\n",
    "df_data['path'] = [Path(data_path/imageid_path_dict[fn].split('/')[3]/f'{fn}.jpg') for fn in df_data.index.values]"
   ],
   "metadata": {
    "collapsed": false
   }
  },
  {
   "cell_type": "code",
   "execution_count": null,
   "outputs": [],
   "source": [
    "df_data.iloc[0]"
   ],
   "metadata": {
    "collapsed": false
   }
  },
  {
   "cell_type": "code",
   "execution_count": null,
   "outputs": [],
   "source": [
    "# we have some missing patient ages, which we can probably ignore.\n",
    "pd.isnull(df_data).sum()"
   ],
   "metadata": {
    "collapsed": false
   }
  },
  {
   "cell_type": "code",
   "execution_count": null,
   "outputs": [],
   "source": [
    "# plot histogram of patient ages\n",
    "fig, axes = plt.subplots(1, 3, figsize=(20, 3))\n",
    "plt.subplot(1, 3, 1)\n",
    "data = df_data['age'].value_counts()\n",
    "bar_plt(data.tolist(), [int(x) for x in data.keys().tolist()], title='Patient ages')\n",
    "\n",
    "# plot bar chart of patients sex\n",
    "plt.subplot(1, 3, 2)\n",
    "data = df_data['sex'].value_counts()\n",
    "bar_plt(data.tolist(), data.keys().tolist(), title='Sex of patients')\n",
    "\n",
    "# plot barchart of localization of lesion on the body\n",
    "plt.subplot(1, 3, 3)\n",
    "data = df_data['localization'].value_counts()\n",
    "bar_plt(data.tolist(), [x[:8] for x in data.keys().tolist()], title='Lesion localization')"
   ],
   "metadata": {
    "collapsed": false
   }
  }
 ],
 "metadata": {
  "kernelspec": {
   "display_name": "Python 3",
   "language": "python",
   "name": "python3"
  },
  "language_info": {
   "codemirror_mode": {
    "name": "ipython",
    "version": 2
   },
   "file_extension": ".py",
   "mimetype": "text/x-python",
   "name": "python",
   "nbconvert_exporter": "python",
   "pygments_lexer": "ipython2",
   "version": "2.7.6"
  }
 },
 "nbformat": 4,
 "nbformat_minor": 0
}
