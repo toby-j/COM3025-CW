{
 "cells": [
  {
   "cell_type": "markdown",
   "metadata": {
    "id": "CgNdhpLOvFjm"
   },
   "source": [
    "# Imports\n",
    "\n"
   ]
  },
  {
   "cell_type": "code",
   "execution_count": 2,
   "metadata": {
    "collapsed": true,
    "id": "qDkEGwmWu8Bx",
    "ExecuteTime": {
     "end_time": "2023-05-12T17:54:51.523510500Z",
     "start_time": "2023-05-12T17:54:45.799636900Z"
    }
   },
   "outputs": [],
   "source": [
    "import numpy as np\n",
    "import pandas as pd\n",
    "import os\n",
    "from matplotlib import pyplot as plt\n",
    "import seaborn as sns\n",
    "import cv2\n",
    "from keras.layers import Conv2D, MaxPool2D, Dense, Flatten, Dropout\n",
    "from keras import Sequential\n",
    "from sklearn.metrics import accuracy_score, f1_score, precision_score, recall_score\n",
    "from sklearn.model_selection import train_test_split\n",
    "from torchvision import transforms\n",
    "import tensorflow as tf"
   ]
  },
  {
   "cell_type": "markdown",
   "metadata": {
    "id": "Q7A6B6RebmmE"
   },
   "source": [
    "\n",
    "# Global functions"
   ]
  },
  {
   "cell_type": "code",
   "execution_count": 3,
   "metadata": {
    "id": "7jxu5s9dbp9P",
    "ExecuteTime": {
     "end_time": "2023-05-12T17:54:51.531508200Z",
     "start_time": "2023-05-12T17:54:51.518997500Z"
    }
   },
   "outputs": [],
   "source": [
    "import numpy as np\n",
    "from sklearn.metrics import f1_score, accuracy_score, precision_score, recall_score\n",
    "\n",
    "def output_metrics(model, X_test, y_test):\n",
    "    # Use the trained model to make predictions on the test data\n",
    "    y_pred = model.predict(X_test)\n",
    "    y_pred_classes = np.argmax(y_pred, axis=1)\n",
    "\n",
    "    # Calculate F1 score\n",
    "    f1 = f1_score(y_test, y_pred_classes, average='weighted')\n",
    "\n",
    "    # Calculate accuracy\n",
    "    accuracy = accuracy_score(y_test, y_pred_classes)\n",
    "\n",
    "    # Calculate precision\n",
    "    precision = precision_score(y_test, y_pred_classes, average='weighted')\n",
    "\n",
    "    # Calculate recall\n",
    "    recall = recall_score(y_test, y_pred_classes, average='weighted')\n",
    "\n",
    "    # Print the metrics\n",
    "    print(f'F1 score: {f1:.2f}')\n",
    "    print(f'Precision: {precision:.2f}')\n",
    "    print(f'Recall: {recall:.2f}')\n",
    "    print(f'Accuracy: {accuracy:.2f}')\n"
   ]
  },
  {
   "cell_type": "code",
   "execution_count": 4,
   "metadata": {
    "id": "fGgdn5RUfZ-V",
    "ExecuteTime": {
     "end_time": "2023-05-12T17:54:51.585341Z",
     "start_time": "2023-05-12T17:54:51.530508700Z"
    }
   },
   "outputs": [],
   "source": [
    "def read_and_resize_image(image_path, size):\n",
    "    img = cv2.imread(image_path)\n",
    "    img = cv2.resize(img, size)\n",
    "    return img"
   ]
  },
  {
   "cell_type": "code",
   "source": [
    "def ShowGrayscaleImage(im, title='', ax=None):\n",
    "  if ax is None:\n",
    "    P.figure()\n",
    "  P.axis('off')\n",
    "\n",
    "  P.imshow(im, cmap=P.cm.gray, vmin=0, vmax=1)\n",
    "  P.title(title)"
   ],
   "metadata": {
    "id": "10o0c6Nxwvdn",
    "ExecuteTime": {
     "end_time": "2023-05-12T17:54:51.586338100Z",
     "start_time": "2023-05-12T17:54:51.560407Z"
    }
   },
   "execution_count": 5,
   "outputs": []
  },
  {
   "cell_type": "code",
   "source": [
    "transformer = transforms.Normalize((0.485, 0.456, 0.406), (0.229, 0.224, 0.225))\n",
    "def PreprocessImages(images):\n",
    "    # assumes input is 4-D, with range [0,255]\n",
    "    #\n",
    "    # torchvision have color channel as first dimension\n",
    "    # with normalization relative to mean/std of ImageNet:\n",
    "    #    https://pytorch.org/vision/stable/models.html\n",
    "    images = np.array(images)\n",
    "    images = images/255\n",
    "    images = np.transpose(images, (0,3,1,2))\n",
    "    images = torch.tensor(images, dtype=torch.float32)\n",
    "    images = transformer.forward(images)\n",
    "    return images.requires_grad_(True)"
   ],
   "metadata": {
    "id": "1Eifbs32w2CP",
    "ExecuteTime": {
     "end_time": "2023-05-12T17:54:51.615937900Z",
     "start_time": "2023-05-12T17:54:51.575819500Z"
    }
   },
   "execution_count": 6,
   "outputs": []
  },
  {
   "cell_type": "code",
   "source": [
    "def normaliseGradients(image_3d, percentile=99):\n",
    "    image_2d = np.sum(np.abs(image_3d), axis=2)\n",
    "\n",
    "    # Get max pixel value in the image\n",
    "    vmax = np.percentile(image_2d, percentile)\n",
    "    # Get minimum pixel value in the image\n",
    "    vmin = np.min(image_2d)\n",
    "\n",
    "    # Normalise the values. We clip intensities so values lower than 0 are equal 0.\n",
    "    return np.clip((image_2d - vmin) / (vmax - vmin), 0, 1)"
   ],
   "metadata": {
    "id": "bH5P4ljFw-GB",
    "ExecuteTime": {
     "end_time": "2023-05-12T17:54:51.615937900Z",
     "start_time": "2023-05-12T17:54:51.594894100Z"
    }
   },
   "execution_count": 7,
   "outputs": []
  },
  {
   "cell_type": "code",
   "source": [
    "def visualiseImageToHeatmap(image_3d, percentile=99):\n",
    "    r\"\"\"Returns a 3D tensor as RGB 3D heatmap\n",
    "    Pixels with higher weightage in sailiency heatmap will most saturated and will correspond to high RGB values in output heatmap_rgb\n",
    "  \"\"\"\n",
    "    image_2d = normaliseGradients(image_3d)\n",
    "    # Create heatmap using \"jet\" colormap, which returns an RGBA image\n",
    "    heatmap = plt.get_cmap('jet')(image_2d) * 255\n",
    "\n",
    "    # Normalise to 0,255 so it's visible when pasted\n",
    "    return Image.fromarray(heatmap.astype(np.uint8), mode='RGBA'), image_2d"
   ],
   "metadata": {
    "id": "YXpx3NuHxHU7",
    "ExecuteTime": {
     "end_time": "2023-05-12T17:54:51.649381600Z",
     "start_time": "2023-05-12T17:54:51.607422Z"
    }
   },
   "execution_count": 8,
   "outputs": []
  },
  {
   "cell_type": "code",
   "source": [
    "def LoadImage(file_path):\n",
    "    im = PIL.Image.open(file_path)\n",
    "    im = im.resize((299, 299))\n",
    "    im = np.asarray(im)\n",
    "    return im"
   ],
   "metadata": {
    "id": "YnWSL8qMxaaY",
    "ExecuteTime": {
     "end_time": "2023-05-12T17:54:51.650380700Z",
     "start_time": "2023-05-12T17:54:51.622453Z"
    }
   },
   "execution_count": 9,
   "outputs": []
  },
  {
   "cell_type": "code",
   "source": [
    "def ShowImage(im, title='', ax=None):\n",
    "    if ax is None:\n",
    "        P.figure()\n",
    "    P.axis('off')\n",
    "    P.imshow(im)\n",
    "    P.title(title)"
   ],
   "metadata": {
    "id": "s-IRBHwxxkd2",
    "ExecuteTime": {
     "end_time": "2023-05-12T17:54:51.650380700Z",
     "start_time": "2023-05-12T17:54:51.636860700Z"
    }
   },
   "execution_count": 10,
   "outputs": []
  },
  {
   "cell_type": "code",
   "source": [
    "from sklearn import metrics\n",
    "\n",
    "def plot_confusion_matrix(model_input, test_data, test_labels):\n",
    "  predictions = model_input.predict(test_data)\n",
    "\n",
    "  y_pred  = np.argmax(predictions, axis=-1)\n",
    "  y_test = np.argmax(test_labels, axis=-1)\n",
    "\n",
    "  confusion_matrix = metrics.confusion_matrix(y_test, y_pred)\n",
    "\n",
    "  labels = list(set(y_test) | set(y_pred))\n",
    "  cm_display = metrics.ConfusionMatrixDisplay(confusion_matrix=confusion_matrix, display_labels=labels)\n",
    "\n",
    "  fig, ax = plt.subplots(figsize=(10, 8))\n",
    "  cm_display.plot(ax=ax)\n",
    "\n",
    "\n",
    "  plt.show()"
   ],
   "metadata": {
    "id": "tKUKGubmyIi2",
    "ExecuteTime": {
     "end_time": "2023-05-12T17:54:51.674808200Z",
     "start_time": "2023-05-12T17:54:51.657713600Z"
    }
   },
   "execution_count": 11,
   "outputs": []
  },
  {
   "cell_type": "markdown",
   "metadata": {
    "id": "Rwaor_SUveCb"
   },
   "source": [
    "# Kaggle dataset loading\n",
    " https://www.kaggle.com/datasets/kmader/skin-cancer-mnist-ham10000"
   ]
  },
  {
   "cell_type": "code",
   "execution_count": 12,
   "metadata": {
    "id": "Qp8DNrdxvi97",
    "ExecuteTime": {
     "end_time": "2023-05-12T17:54:51.704387500Z",
     "start_time": "2023-05-12T17:54:51.668231300Z"
    }
   },
   "outputs": [],
   "source": [
    "# !pip install -q kaggle\n",
    "# from google.colab import files"
   ]
  },
  {
   "cell_type": "markdown",
   "metadata": {
    "id": "OPMG8P67vzfg"
   },
   "source": [
    "Upload your kaggle .json api key"
   ]
  },
  {
   "cell_type": "code",
   "execution_count": 13,
   "metadata": {
    "colab": {
     "base_uri": "https://localhost:8080/",
     "height": 89
    },
    "id": "YUok6YaGvyN6",
    "outputId": "38e95205-7c53-4922-9d8f-335253cf6e2a",
    "ExecuteTime": {
     "end_time": "2023-05-12T17:54:51.704387500Z",
     "start_time": "2023-05-12T17:54:51.683342Z"
    }
   },
   "outputs": [],
   "source": [
    "# files.upload()"
   ]
  },
  {
   "cell_type": "code",
   "execution_count": 14,
   "metadata": {
    "id": "xN85sd_Fv8qr",
    "ExecuteTime": {
     "end_time": "2023-05-12T17:54:51.750068Z",
     "start_time": "2023-05-12T17:54:51.699870500Z"
    }
   },
   "outputs": [],
   "source": [
    "# !mkdir ~/.kaggle"
   ]
  },
  {
   "cell_type": "code",
   "execution_count": 15,
   "metadata": {
    "id": "4HD3RcoPv_XQ",
    "ExecuteTime": {
     "end_time": "2023-05-12T17:54:51.785778Z",
     "start_time": "2023-05-12T17:54:51.716517600Z"
    }
   },
   "outputs": [],
   "source": [
    "# !cp kaggle.json ~/.kaggle/"
   ]
  },
  {
   "cell_type": "code",
   "execution_count": 16,
   "metadata": {
    "id": "XTKF1IrbwChl",
    "ExecuteTime": {
     "end_time": "2023-05-12T17:54:51.786779100Z",
     "start_time": "2023-05-12T17:54:51.732544100Z"
    }
   },
   "outputs": [],
   "source": [
    "# !chmod 600 ~/.kaggle/kaggle.json"
   ]
  },
  {
   "cell_type": "code",
   "execution_count": 17,
   "metadata": {
    "colab": {
     "base_uri": "https://localhost:8080/"
    },
    "id": "tatARidBwH20",
    "outputId": "d5058a53-4b60-4326-9ec6-cfb3628f3b1a",
    "ExecuteTime": {
     "end_time": "2023-05-12T17:54:51.787782900Z",
     "start_time": "2023-05-12T17:54:51.746070Z"
    }
   },
   "outputs": [],
   "source": [
    "# !kaggle datasets download -d kmader/skin-cancer-mnist-ham10000"
   ]
  },
  {
   "cell_type": "code",
   "execution_count": 18,
   "metadata": {
    "id": "IEfjefMTwQUX",
    "ExecuteTime": {
     "end_time": "2023-05-12T17:54:51.788779Z",
     "start_time": "2023-05-12T17:54:51.763093900Z"
    }
   },
   "outputs": [],
   "source": [
    "# !unzip -q skin-cancer-mnist-ham10000.zip -d content"
   ]
  },
  {
   "cell_type": "code",
   "execution_count": 19,
   "metadata": {
    "id": "02a5I2pIw9Gp",
    "ExecuteTime": {
     "end_time": "2023-05-12T17:54:51.849735600Z",
     "start_time": "2023-05-12T17:54:51.775659Z"
    }
   },
   "outputs": [],
   "source": [
    "# Removing the zip to save space\n",
    "# !rm skin-cancer-mnist-ham10000.zip"
   ]
  },
  {
   "cell_type": "markdown",
   "metadata": {
    "id": "Ek5Dfin9Svmd"
   },
   "source": [
    "## Dataset cleaning"
   ]
  },
  {
   "cell_type": "code",
   "execution_count": 20,
   "metadata": {
    "id": "GEzN-8pAu8Bz",
    "ExecuteTime": {
     "end_time": "2023-05-12T17:54:51.879843100Z",
     "start_time": "2023-05-12T17:54:51.792288200Z"
    }
   },
   "outputs": [],
   "source": [
    "df = pd.read_csv('content/HAM10000_metadata')"
   ]
  },
  {
   "cell_type": "code",
   "execution_count": 21,
   "metadata": {
    "colab": {
     "base_uri": "https://localhost:8080/"
    },
    "id": "eEjXq64_u8B2",
    "outputId": "d9038209-1746-498d-ed32-4dd800ecf693",
    "ExecuteTime": {
     "end_time": "2023-05-12T17:54:51.882358500Z",
     "start_time": "2023-05-12T17:54:51.841220400Z"
    }
   },
   "outputs": [
    {
     "name": "stdout",
     "output_type": "stream",
     "text": [
      "         lesion_id      image_id     dx dx_type   age     sex localization   \n",
      "0      HAM_0000118  ISIC_0027419    bkl   histo  80.0    male        scalp  \\\n",
      "1      HAM_0000118  ISIC_0025030    bkl   histo  80.0    male        scalp   \n",
      "2      HAM_0002730  ISIC_0026769    bkl   histo  80.0    male        scalp   \n",
      "3      HAM_0002730  ISIC_0025661    bkl   histo  80.0    male        scalp   \n",
      "4      HAM_0001466  ISIC_0031633    bkl   histo  75.0    male          ear   \n",
      "...            ...           ...    ...     ...   ...     ...          ...   \n",
      "10010  HAM_0002867  ISIC_0033084  akiec   histo  40.0    male      abdomen   \n",
      "10011  HAM_0002867  ISIC_0033550  akiec   histo  40.0    male      abdomen   \n",
      "10012  HAM_0002867  ISIC_0033536  akiec   histo  40.0    male      abdomen   \n",
      "10013  HAM_0000239  ISIC_0032854  akiec   histo  80.0    male         face   \n",
      "10014  HAM_0003521  ISIC_0032258    mel   histo  70.0  female         back   \n",
      "\n",
      "            dataset  \n",
      "0      vidir_modern  \n",
      "1      vidir_modern  \n",
      "2      vidir_modern  \n",
      "3      vidir_modern  \n",
      "4      vidir_modern  \n",
      "...             ...  \n",
      "10010  vidir_modern  \n",
      "10011  vidir_modern  \n",
      "10012  vidir_modern  \n",
      "10013  vidir_modern  \n",
      "10014  vidir_modern  \n",
      "\n",
      "[10015 rows x 8 columns]\n"
     ]
    }
   ],
   "source": [
    "print(df)"
   ]
  },
  {
   "cell_type": "code",
   "execution_count": 22,
   "metadata": {
    "colab": {
     "base_uri": "https://localhost:8080/",
     "height": 206
    },
    "id": "0WUXP5JIu8B6",
    "outputId": "109e22ef-c37c-47bc-e888-05873a045a41",
    "ExecuteTime": {
     "end_time": "2023-05-12T17:54:51.943197600Z",
     "start_time": "2023-05-12T17:54:51.868785600Z"
    }
   },
   "outputs": [
    {
     "data": {
      "text/plain": "     lesion_id      image_id   dx dx_type   age   sex localization   \n0  HAM_0000118  ISIC_0027419  bkl   histo  80.0  male        scalp  \\\n1  HAM_0000118  ISIC_0025030  bkl   histo  80.0  male        scalp   \n2  HAM_0002730  ISIC_0026769  bkl   histo  80.0  male        scalp   \n3  HAM_0002730  ISIC_0025661  bkl   histo  80.0  male        scalp   \n4  HAM_0001466  ISIC_0031633  bkl   histo  75.0  male          ear   \n\n        dataset  \n0  vidir_modern  \n1  vidir_modern  \n2  vidir_modern  \n3  vidir_modern  \n4  vidir_modern  ",
      "text/html": "<div>\n<style scoped>\n    .dataframe tbody tr th:only-of-type {\n        vertical-align: middle;\n    }\n\n    .dataframe tbody tr th {\n        vertical-align: top;\n    }\n\n    .dataframe thead th {\n        text-align: right;\n    }\n</style>\n<table border=\"1\" class=\"dataframe\">\n  <thead>\n    <tr style=\"text-align: right;\">\n      <th></th>\n      <th>lesion_id</th>\n      <th>image_id</th>\n      <th>dx</th>\n      <th>dx_type</th>\n      <th>age</th>\n      <th>sex</th>\n      <th>localization</th>\n      <th>dataset</th>\n    </tr>\n  </thead>\n  <tbody>\n    <tr>\n      <th>0</th>\n      <td>HAM_0000118</td>\n      <td>ISIC_0027419</td>\n      <td>bkl</td>\n      <td>histo</td>\n      <td>80.0</td>\n      <td>male</td>\n      <td>scalp</td>\n      <td>vidir_modern</td>\n    </tr>\n    <tr>\n      <th>1</th>\n      <td>HAM_0000118</td>\n      <td>ISIC_0025030</td>\n      <td>bkl</td>\n      <td>histo</td>\n      <td>80.0</td>\n      <td>male</td>\n      <td>scalp</td>\n      <td>vidir_modern</td>\n    </tr>\n    <tr>\n      <th>2</th>\n      <td>HAM_0002730</td>\n      <td>ISIC_0026769</td>\n      <td>bkl</td>\n      <td>histo</td>\n      <td>80.0</td>\n      <td>male</td>\n      <td>scalp</td>\n      <td>vidir_modern</td>\n    </tr>\n    <tr>\n      <th>3</th>\n      <td>HAM_0002730</td>\n      <td>ISIC_0025661</td>\n      <td>bkl</td>\n      <td>histo</td>\n      <td>80.0</td>\n      <td>male</td>\n      <td>scalp</td>\n      <td>vidir_modern</td>\n    </tr>\n    <tr>\n      <th>4</th>\n      <td>HAM_0001466</td>\n      <td>ISIC_0031633</td>\n      <td>bkl</td>\n      <td>histo</td>\n      <td>75.0</td>\n      <td>male</td>\n      <td>ear</td>\n      <td>vidir_modern</td>\n    </tr>\n  </tbody>\n</table>\n</div>"
     },
     "execution_count": 22,
     "metadata": {},
     "output_type": "execute_result"
    }
   ],
   "source": [
    "df.head()"
   ]
  },
  {
   "cell_type": "code",
   "execution_count": 23,
   "metadata": {
    "colab": {
     "base_uri": "https://localhost:8080/",
     "height": 300
    },
    "id": "41stH92zu8B-",
    "outputId": "0bdefcbd-0b66-4268-972f-6708465ab91c",
    "ExecuteTime": {
     "end_time": "2023-05-12T17:54:52.008342200Z",
     "start_time": "2023-05-12T17:54:51.905256200Z"
    }
   },
   "outputs": [
    {
     "data": {
      "text/plain": "               age\ncount  9958.000000\nmean     51.863828\nstd      16.968614\nmin       0.000000\n25%      40.000000\n50%      50.000000\n75%      65.000000\nmax      85.000000",
      "text/html": "<div>\n<style scoped>\n    .dataframe tbody tr th:only-of-type {\n        vertical-align: middle;\n    }\n\n    .dataframe tbody tr th {\n        vertical-align: top;\n    }\n\n    .dataframe thead th {\n        text-align: right;\n    }\n</style>\n<table border=\"1\" class=\"dataframe\">\n  <thead>\n    <tr style=\"text-align: right;\">\n      <th></th>\n      <th>age</th>\n    </tr>\n  </thead>\n  <tbody>\n    <tr>\n      <th>count</th>\n      <td>9958.000000</td>\n    </tr>\n    <tr>\n      <th>mean</th>\n      <td>51.863828</td>\n    </tr>\n    <tr>\n      <th>std</th>\n      <td>16.968614</td>\n    </tr>\n    <tr>\n      <th>min</th>\n      <td>0.000000</td>\n    </tr>\n    <tr>\n      <th>25%</th>\n      <td>40.000000</td>\n    </tr>\n    <tr>\n      <th>50%</th>\n      <td>50.000000</td>\n    </tr>\n    <tr>\n      <th>75%</th>\n      <td>65.000000</td>\n    </tr>\n    <tr>\n      <th>max</th>\n      <td>85.000000</td>\n    </tr>\n  </tbody>\n</table>\n</div>"
     },
     "execution_count": 23,
     "metadata": {},
     "output_type": "execute_result"
    }
   ],
   "source": [
    "df.describe()"
   ]
  },
  {
   "cell_type": "code",
   "execution_count": 24,
   "metadata": {
    "id": "U6CC22ABu8CB",
    "ExecuteTime": {
     "end_time": "2023-05-12T17:54:52.009344200Z",
     "start_time": "2023-05-12T17:54:51.935685600Z"
    }
   },
   "outputs": [],
   "source": [
    "lesion_type_dict = {\n",
    "    'nv': 'Melanocytic nevi',\n",
    "    'mel': 'Melanoma',\n",
    "    'bkl': 'Bening keratosis-like lesions',\n",
    "    'bcc': 'Basal cell carcinoma',\n",
    "    'akiec': 'Actinic keratoses',\n",
    "    'vasc': 'Vascular lesions',\n",
    "    'df': 'Dermatofibroma'\n",
    "}\n",
    "ds_dir = 'content/'"
   ]
  },
  {
   "cell_type": "code",
   "execution_count": 25,
   "metadata": {
    "id": "2-i_Kyq9u8CC",
    "ExecuteTime": {
     "end_time": "2023-05-12T17:54:52.149612700Z",
     "start_time": "2023-05-12T17:54:51.951201800Z"
    }
   },
   "outputs": [],
   "source": [
    "from glob import glob\n",
    "## Let's map the image_id with it's image path from part 1 and part 2 folders\n",
    "imageid_path_dict = {os.path.splitext(os.path.basename(x))[0]: x\n",
    "                     for x in glob(os.path.join(ds_dir, '*', '*.jpg'))}"
   ]
  },
  {
   "cell_type": "code",
   "execution_count": 26,
   "metadata": {
    "id": "Ge6Zi_Plu8CK",
    "ExecuteTime": {
     "end_time": "2023-05-12T17:54:52.176026700Z",
     "start_time": "2023-05-12T17:54:52.087587Z"
    }
   },
   "outputs": [],
   "source": [
    "df['path'] = df['image_id'].map(imageid_path_dict.get)\n",
    "df['cell_type'] = df['dx'].map(lesion_type_dict.get)\n",
    "df['cell_type_idx'] = pd.Categorical(df['cell_type']).codes"
   ]
  },
  {
   "cell_type": "code",
   "execution_count": 27,
   "metadata": {
    "colab": {
     "base_uri": "https://localhost:8080/"
    },
    "id": "e0WLC4Dnu8CT",
    "outputId": "a4172b60-3976-445b-e697-758aa73cb0d3",
    "ExecuteTime": {
     "end_time": "2023-05-12T17:54:52.176026700Z",
     "start_time": "2023-05-12T17:54:52.101106500Z"
    }
   },
   "outputs": [
    {
     "data": {
      "text/plain": "lesion_id         0\nimage_id          0\ndx                0\ndx_type           0\nage              57\nsex               0\nlocalization      0\ndataset           0\npath              0\ncell_type         0\ncell_type_idx     0\ndtype: int64"
     },
     "execution_count": 27,
     "metadata": {},
     "output_type": "execute_result"
    }
   ],
   "source": [
    "df.isna().sum()"
   ]
  },
  {
   "cell_type": "markdown",
   "source": [
    "# Training"
   ],
   "metadata": {
    "id": "sGRsJl19L6El"
   }
  },
  {
   "cell_type": "code",
   "execution_count": 28,
   "metadata": {
    "id": "Tc5GD9g_u8Ci",
    "ExecuteTime": {
     "end_time": "2023-05-12T17:54:52.220491800Z",
     "start_time": "2023-05-12T17:54:52.135076200Z"
    }
   },
   "outputs": [],
   "source": [
    "image_size = (64, 64)"
   ]
  },
  {
   "cell_type": "code",
   "execution_count": 29,
   "metadata": {
    "id": "ZYKNlFMbu8Cj",
    "ExecuteTime": {
     "end_time": "2023-05-12T17:56:01.843105600Z",
     "start_time": "2023-05-12T17:54:52.156169900Z"
    }
   },
   "outputs": [],
   "source": [
    "# Apply the function to each image path in the 'path' column of the dataframe\n",
    "df['image'] = df['path'].apply(lambda x: read_and_resize_image(x, image_size))"
   ]
  },
  {
   "cell_type": "code",
   "execution_count": 30,
   "metadata": {
    "colab": {
     "base_uri": "https://localhost:8080/"
    },
    "id": "tEY2wp4Pu8Cj",
    "outputId": "ecb65a3d-0150-4357-c7c1-2355c5ae0ea3",
    "ExecuteTime": {
     "end_time": "2023-05-12T17:56:01.862164600Z",
     "start_time": "2023-05-12T17:56:01.845071300Z"
    }
   },
   "outputs": [
    {
     "data": {
      "text/plain": "image\n(64, 64, 3)    10015\nName: count, dtype: int64"
     },
     "execution_count": 30,
     "metadata": {},
     "output_type": "execute_result"
    }
   ],
   "source": [
    "df['image'].map(lambda x: x.shape).value_counts()"
   ]
  },
  {
   "cell_type": "code",
   "execution_count": 31,
   "metadata": {
    "id": "Ook1wZ-8u8Ck",
    "ExecuteTime": {
     "end_time": "2023-05-12T17:56:01.904053800Z",
     "start_time": "2023-05-12T17:56:01.863255900Z"
    }
   },
   "outputs": [],
   "source": [
    "# Split the data into train and test sets\n",
    "# We use stratify which splits the dataset with the same class inbalance as the dataset.\n",
    "train_df, test_df = train_test_split(df, test_size=0.2, stratify=df['cell_type_idx'], random_state=42)"
   ]
  },
  {
   "cell_type": "code",
   "execution_count": 32,
   "metadata": {
    "id": "zYXLJyzGu8Ck",
    "ExecuteTime": {
     "end_time": "2023-05-12T17:56:01.989107400Z",
     "start_time": "2023-05-12T17:56:01.893419600Z"
    }
   },
   "outputs": [],
   "source": [
    "# Extract the image data and target labels for train and test sets\n",
    "# TODO: We're only using images and cell_type_idx, we can experiment with adding more input data\n",
    "X_train = np.stack(train_df['image'].values)\n",
    "y_train = train_df['cell_type_idx'].values\n",
    "X_test = np.stack(test_df['image'].values)\n",
    "y_test = test_df['cell_type_idx'].values"
   ]
  },
  {
   "cell_type": "code",
   "execution_count": 33,
   "metadata": {
    "id": "Zrc8O6bxu8Cl",
    "ExecuteTime": {
     "end_time": "2023-05-12T17:56:02.128395900Z",
     "start_time": "2023-05-12T17:56:01.989107400Z"
    }
   },
   "outputs": [],
   "source": [
    "model = Sequential()\n",
    "model.add(Conv2D(32, (3, 3), activation='relu', input_shape=(image_size[1], image_size[0], 3)))\n",
    "model.add(MaxPool2D((2, 2)))\n",
    "model.add(Conv2D(64, (3, 3), activation='relu'))\n",
    "model.add(MaxPool2D((2, 2)))\n",
    "model.add(Flatten())\n",
    "model.add(Dense(128, activation='relu'))\n",
    "model.add(Dropout(0.5))\n",
    "model.add(Dense(len(df['cell_type_idx'].unique()), activation='softmax'))"
   ]
  },
  {
   "cell_type": "code",
   "execution_count": 34,
   "metadata": {
    "id": "5rh1VsV6u8Cl",
    "ExecuteTime": {
     "end_time": "2023-05-12T17:56:02.162195400Z",
     "start_time": "2023-05-12T17:56:02.124359Z"
    }
   },
   "outputs": [],
   "source": [
    "model.compile(optimizer = 'adam', loss= 'sparse_categorical_crossentropy', metrics=['accuracy'])"
   ]
  },
  {
   "cell_type": "code",
   "execution_count": 35,
   "metadata": {
    "id": "6sF22aPZu8Cm",
    "colab": {
     "base_uri": "https://localhost:8080/"
    },
    "outputId": "f10bdd2a-95b3-4fb4-f27d-6e2d1d50f784",
    "ExecuteTime": {
     "end_time": "2023-05-12T17:58:12.892125300Z",
     "start_time": "2023-05-12T17:56:02.154636600Z"
    }
   },
   "outputs": [
    {
     "name": "stdout",
     "output_type": "stream",
     "text": [
      "Epoch 1/10\n",
      "16/16 [==============================] - 15s 883ms/step - loss: 44.0107 - accuracy: 0.4638 - val_loss: 1.1469 - val_accuracy: 0.6553\n",
      "Epoch 2/10\n",
      "16/16 [==============================] - 16s 985ms/step - loss: 1.1471 - accuracy: 0.6598 - val_loss: 1.0085 - val_accuracy: 0.6680\n",
      "Epoch 3/10\n",
      "16/16 [==============================] - 14s 902ms/step - loss: 0.9707 - accuracy: 0.6747 - val_loss: 0.9315 - val_accuracy: 0.6720\n",
      "Epoch 4/10\n",
      "16/16 [==============================] - 13s 817ms/step - loss: 0.8960 - accuracy: 0.6852 - val_loss: 0.9377 - val_accuracy: 0.6760\n",
      "Epoch 5/10\n",
      "16/16 [==============================] - 13s 814ms/step - loss: 0.8601 - accuracy: 0.6920 - val_loss: 0.9058 - val_accuracy: 0.6772\n",
      "Epoch 6/10\n",
      "16/16 [==============================] - 12s 767ms/step - loss: 0.7844 - accuracy: 0.7199 - val_loss: 0.9163 - val_accuracy: 0.6802\n",
      "Epoch 7/10\n",
      "16/16 [==============================] - 12s 753ms/step - loss: 0.7353 - accuracy: 0.7394 - val_loss: 0.8746 - val_accuracy: 0.6905\n",
      "Epoch 8/10\n",
      "16/16 [==============================] - 12s 753ms/step - loss: 0.7026 - accuracy: 0.7519 - val_loss: 0.9571 - val_accuracy: 0.6847\n",
      "Epoch 9/10\n",
      "16/16 [==============================] - 12s 766ms/step - loss: 0.6658 - accuracy: 0.7649 - val_loss: 0.8720 - val_accuracy: 0.6952\n",
      "Epoch 10/10\n",
      "16/16 [==============================] - 12s 770ms/step - loss: 0.6404 - accuracy: 0.7741 - val_loss: 0.8908 - val_accuracy: 0.6932\n"
     ]
    },
    {
     "data": {
      "text/plain": "<keras.callbacks.History at 0x27df647ff40>"
     },
     "execution_count": 35,
     "metadata": {},
     "output_type": "execute_result"
    }
   ],
   "source": [
    "model.fit(X_train, y_train, batch_size=256, epochs=10, validation_split=0.5)"
   ]
  },
  {
   "cell_type": "markdown",
   "metadata": {
    "id": "FpxPXbXphKid"
   },
   "source": [
    "# Metrics"
   ]
  },
  {
   "cell_type": "code",
   "execution_count": 36,
   "metadata": {
    "id": "JhWGlmnSu8Cm",
    "colab": {
     "base_uri": "https://localhost:8080/",
     "height": 218
    },
    "outputId": "080e805e-6226-48a8-8ec3-7b50a20324df",
    "ExecuteTime": {
     "end_time": "2023-05-12T17:58:14.477254200Z",
     "start_time": "2023-05-12T17:58:12.877605500Z"
    }
   },
   "outputs": [
    {
     "name": "stdout",
     "output_type": "stream",
     "text": [
      "63/63 [==============================] - 1s 21ms/step\n",
      "F1 score: 0.64\n",
      "Precision: 0.64\n",
      "Recall: 0.69\n",
      "Accuracy: 0.69\n"
     ]
    }
   ],
   "source": [
    "output_metrics(model, X_test, y_test)"
   ]
  },
  {
   "cell_type": "code",
   "execution_count": 37,
   "metadata": {
    "id": "YpiifHQ9u8Cm",
    "ExecuteTime": {
     "end_time": "2023-05-12T17:58:14.485665900Z",
     "start_time": "2023-05-12T17:58:14.472771600Z"
    }
   },
   "outputs": [],
   "source": [
    "# Create a new DataFrame with 'lesion_id' and 'cell_type_dx' columns from the test data\n",
    "result_df = pd.DataFrame({'lesion_id': test_df['lesion_id'], 'target': y_test})"
   ]
  },
  {
   "cell_type": "markdown",
   "metadata": {
    "id": "-JElKkmMj_8j"
   },
   "source": [
    "# Smoothgrad\n"
   ]
  },
  {
   "cell_type": "code",
   "execution_count": 38,
   "metadata": {
    "id": "ZJdjpwZOsCZp",
    "ExecuteTime": {
     "end_time": "2023-05-12T17:58:14.542762500Z",
     "start_time": "2023-05-12T17:58:14.487764900Z"
    }
   },
   "outputs": [],
   "source": [
    "import torch\n",
    "import PIL.Image\n",
    "from torchvision import models, transforms\n",
    "from matplotlib import pylab as P"
   ]
  },
  {
   "cell_type": "code",
   "execution_count": 39,
   "metadata": {
    "id": "wiuvG8mOsNqk",
    "ExecuteTime": {
     "end_time": "2023-05-12T17:58:14.543792900Z",
     "start_time": "2023-05-12T17:58:14.503587200Z"
    }
   },
   "outputs": [],
   "source": [
    "class_idx_str = 'class_idx_str'"
   ]
  },
  {
   "cell_type": "code",
   "execution_count": 40,
   "metadata": {
    "id": "N0FkwjCJs8_n",
    "ExecuteTime": {
     "end_time": "2023-05-12T17:58:14.543792900Z",
     "start_time": "2023-05-12T17:58:14.517640900Z"
    }
   },
   "outputs": [],
   "source": [
    "INPUT_OUTPUT_GRADIENTS = 'INPUT_OUTPUT_GRADIENTS'\n",
    "CONVOLUTION_LAYER_VALUES = 'CONVOLUTION_LAYER_VALUES'\n",
    "CONVOLUTION_OUTPUT_GRADIENTS = 'CONVOLUTION_OUTPUT_GRADIENTS'"
   ]
  },
  {
   "cell_type": "code",
   "execution_count": 41,
   "metadata": {
    "id": "Sa6perPzzK4E",
    "ExecuteTime": {
     "end_time": "2023-05-12T17:58:14.573052100Z",
     "start_time": "2023-05-12T17:58:14.533241800Z"
    }
   },
   "outputs": [],
   "source": [
    "expected_keys = [INPUT_OUTPUT_GRADIENTS]"
   ]
  },
  {
   "cell_type": "code",
   "execution_count": 42,
   "metadata": {
    "id": "xMKDQNRNsekV",
    "ExecuteTime": {
     "end_time": "2023-05-12T17:58:14.573052100Z",
     "start_time": "2023-05-12T17:58:14.548343400Z"
    }
   },
   "outputs": [],
   "source": [
    "conv_layer_outputs = {}"
   ]
  },
  {
   "cell_type": "code",
   "execution_count": 43,
   "metadata": {
    "id": "_XQ7SBxWqcSd",
    "ExecuteTime": {
     "end_time": "2023-05-12T17:58:14.636835100Z",
     "start_time": "2023-05-12T17:58:14.565975100Z"
    }
   },
   "outputs": [],
   "source": [
    "def call_model_function(images, call_model_args=None, expected_keys=None):\n",
    "    target_class_idx =  call_model_args[class_idx_str]\n",
    "    images = tf.convert_to_tensor(images)\n",
    "    with tf.GradientTape() as tape:\n",
    "        if expected_keys==[INPUT_OUTPUT_GRADIENTS]:\n",
    "            tape.watch(images)\n",
    "            _, output_layer = new_model(images)\n",
    "            output_layer = output_layer[:,target_class_idx]\n",
    "            gradients = np.array(tape.gradient(output_layer, images))\n",
    "            return {INPUT_OUTPUT_GRADIENTS: gradients}\n",
    "        else:\n",
    "            conv_layer, output_layer = new_model(images)\n",
    "            gradients = np.array(tape.gradient(output_layer, conv_layer))\n",
    "            return {CONVOLUTION_LAYER_VALUES: conv_layer,\n",
    "                    CONVOLUTION_OUTPUT_GRADIENTS: gradients}"
   ]
  },
  {
   "cell_type": "code",
   "execution_count": 44,
   "metadata": {
    "id": "6mbaFPIGOiYU",
    "ExecuteTime": {
     "end_time": "2023-05-12T17:58:14.637836300Z",
     "start_time": "2023-05-12T17:58:14.581426400Z"
    }
   },
   "outputs": [],
   "source": [
    "def format_and_check_call_model_output(self, output, input_shape, expected_keys):\n",
    "  \"\"\"Converts keys in the output into an np.ndarray, and confirms its shape.\n",
    "\n",
    "  Args:\n",
    "    output: The output dictionary of data to be formatted.\n",
    "    input_shape: The shape of the input that yielded the output\n",
    "    expected_keys: List of keys inside output to format/check for shape agreement.\n",
    "\n",
    "  Raises:\n",
    "      ValueError: If output shapes do not match expected shape.\"\"\"\n",
    "  # If key is in check_full_shape, the shape should be equal to the input shape (e.g. \n",
    "  # INPUT_OUTPUT_GRADIENTS, which gives gradients for each value of the input). Otherwise,\n",
    "  # only checks the outermost dimension of output to match input_shape (i.e. the batch size\n",
    "  # should be the same).\n",
    "  check_full_shape = [INPUT_OUTPUT_GRADIENTS]\n",
    "  for expected_key in expected_keys:\n",
    "    output[expected_key] = np.asarray(output[expected_key])\n",
    "    expected_shape = input_shape\n",
    "    actual_shape = output[expected_key].shape\n",
    "    if expected_key not in check_full_shape:\n",
    "      expected_shape = expected_shape[0]\n",
    "      actual_shape = actual_shape[0]\n",
    "    if expected_shape != actual_shape:\n",
    "      raise ValueError(SHAPE_ERROR_MESSAGE[expected_key].format(\n",
    "                      expected_shape, actual_shape))"
   ]
  },
  {
   "cell_type": "code",
   "execution_count": 45,
   "metadata": {
    "id": "xzMDaanyQOa4",
    "ExecuteTime": {
     "end_time": "2023-05-12T17:58:14.638838100Z",
     "start_time": "2023-05-12T17:58:14.594717300Z"
    }
   },
   "outputs": [],
   "source": [
    "\"\"\"Utilities to compute SaliencyMasks.\"\"\"\n",
    "import numpy as np\n",
    "\n",
    "\n",
    "# Output of the last convolution layer for the given input, including the batch\n",
    "# dimension.\n",
    "CONVOLUTION_LAYER_VALUES = 'CONVOLUTION_LAYER_VALUES'\n",
    "# Gradients of the output being explained (the logit/softmax value) with respect\n",
    "# to the last convolution layer, including the batch dimension.\n",
    "CONVOLUTION_OUTPUT_GRADIENTS = 'CONVOLUTION_OUTPUT_GRADIENTS'\n",
    "# Gradients of the output being explained (the logit/softmax value) with respect\n",
    "# to the input. Shape should be the same shape as x_value_batch.\n",
    "INPUT_OUTPUT_GRADIENTS = 'INPUT_OUTPUT_GRADIENTS'\n",
    "# Value of the output being explained (the logit/softmax value).\n",
    "OUTPUT_LAYER_VALUES = 'OUTPUT_LAYER_VALUES'\n",
    "\n",
    "SHAPE_ERROR_MESSAGE = {\n",
    "    CONVOLUTION_LAYER_VALUES: (\n",
    "        'Expected outermost dimension of CONVOLUTION_LAYER_VALUES to be the '\n",
    "        'same as x_value_batch - expected {}, actual {}'\n",
    "    ),\n",
    "    CONVOLUTION_OUTPUT_GRADIENTS: (\n",
    "        'Expected outermost dimension of CONVOLUTION_OUTPUT_GRADIENTS to be the '\n",
    "        'same as x_value_batch - expected {}, actual {}'\n",
    "    ),\n",
    "    INPUT_OUTPUT_GRADIENTS: (\n",
    "        'Expected key INPUT_OUTPUT_GRADIENTS to be the same shape as input '\n",
    "        'x_value_batch - expected {}, actual {}'\n",
    "    ),\n",
    "    OUTPUT_LAYER_VALUES: (\n",
    "        'Expected outermost dimension of OUTPUT_LAYER_VALUES to be the same as'\n",
    "        ' x_value_batch - expected {}, actual {}'\n",
    "    ),\n",
    "}\n",
    "\n",
    "\n",
    "class CoreSaliency(object):\n",
    "  r\"\"\"Base class for saliency methods. Alone, this class doesn't do anything.\"\"\"\n",
    "\n",
    "  def GetMask(self, x_value, call_model_function, call_model_args=None):\n",
    "    \"\"\"Returns an unsmoothed mask.\n",
    "\n",
    "    Args:\n",
    "      x_value: Input ndarray.\n",
    "      call_model_function: A function that interfaces with a model to return\n",
    "        specific output in a dictionary when given an input and other arguments.\n",
    "        Expected function signature:\n",
    "        - call_model_function(x_value_batch,\n",
    "                              call_model_args=None,\n",
    "                              expected_keys=None):\n",
    "          x_value_batch - Input for the model, given as a batch (i.e. dimension\n",
    "            0 is the batch dimension, dimensions 1 through n represent a single\n",
    "            input).\n",
    "          call_model_args - Other arguments used to call and run the model.\n",
    "          expected_keys - List of keys that are expected in the output. Possible\n",
    "            keys in this list are CONVOLUTION_LAYER_VALUES, \n",
    "            CONVOLUTION_OUTPUT_GRADIENTS, INPUT_OUTPUT_GRADIENTS, and\n",
    "            OUTPUT_LAYER_VALUES, and are explained in detail where declared.\n",
    "      call_model_args: The arguments that will be passed to the call model\n",
    "        function, for every call of the model.\n",
    "\n",
    "    \"\"\"\n",
    "    raise NotImplementedError('A derived class should implemented GetMask()')\n",
    "\n",
    "  def GetSmoothedMask(self,\n",
    "                      x_value,\n",
    "                      call_model_function,\n",
    "                      call_model_args=None,\n",
    "                      stdev_spread=.15,\n",
    "                      nsamples=25,\n",
    "                      magnitude=True,\n",
    "                      **kwargs):\n",
    "    \"\"\"Returns a mask that is smoothed with the SmoothGrad method.\n",
    "\n",
    "    Args:\n",
    "      x_value: Input ndarray.\n",
    "      call_model_function: A function that interfaces with a model to return\n",
    "        specific output in a dictionary when given an input and other arguments.\n",
    "        Expected function signature:\n",
    "        - call_model_function(x_value_batch,\n",
    "                              call_model_args=None,\n",
    "                              expected_keys=None):\n",
    "          x_value_batch - Input for the model, given as a batch (i.e. dimension\n",
    "            0 is the batch dimension, dimensions 1 through n represent a single\n",
    "            input).\n",
    "          call_model_args - Other arguments used to call and run the model.\n",
    "          expected_keys - List of keys that are expected in the output. Possible\n",
    "            keys in this list are CONVOLUTION_LAYER_VALUES,\n",
    "            CONVOLUTION_OUTPUT_GRADIENTS, INPUT_OUTPUT_GRADIENTS, and\n",
    "            OUTPUT_LAYER_VALUES, and are explained in detail where declared.\n",
    "      call_model_args: The arguments that will be passed to the call model\n",
    "        function, for every call of the model.\n",
    "      stdev_spread: Amount of noise to add to the input, as fraction of the\n",
    "                    total spread (x_max - x_min). Defaults to 15%.\n",
    "      nsamples: Number of samples to average across to get the smooth gradient.\n",
    "      magnitude: If true, computes the sum of squares of gradients instead of\n",
    "                 just the sum. Defaults to true.\n",
    "    \"\"\"\n",
    "    stdev = stdev_spread * (np.max(x_value) - np.min(x_value))\n",
    "\n",
    "    total_gradients = np.zeros_like(x_value, dtype=np.float32)\n",
    "    for _ in range(nsamples):\n",
    "      noise = np.random.normal(0, stdev, x_value.shape)\n",
    "      x_plus_noise = x_value + noise\n",
    "      grad = self.GetMask(x_plus_noise, call_model_function, call_model_args,\n",
    "                          **kwargs)\n",
    "      if magnitude:\n",
    "        total_gradients += (grad * grad)\n",
    "      else:\n",
    "        total_gradients += grad\n",
    "\n",
    "    return total_gradients / nsamples\n",
    "\n",
    "  def format_and_check_call_model_output(self, output, input_shape, expected_keys):\n",
    "    \"\"\"Converts keys in the output into an np.ndarray, and confirms its shape.\n",
    "\n",
    "    Args:\n",
    "      output: The output dictionary of data to be formatted.\n",
    "      input_shape: The shape of the input that yielded the output\n",
    "      expected_keys: List of keys inside output to format/check for shape agreement.\n",
    "\n",
    "    Raises:\n",
    "        ValueError: If output shapes do not match expected shape.\"\"\"\n",
    "    # If key is in check_full_shape, the shape should be equal to the input shape (e.g. \n",
    "    # INPUT_OUTPUT_GRADIENTS, which gives gradients for each value of the input). Otherwise,\n",
    "    # only checks the outermost dimension of output to match input_shape (i.e. the batch size\n",
    "    # should be the same).\n",
    "    check_full_shape = [INPUT_OUTPUT_GRADIENTS]\n",
    "    for expected_key in expected_keys:\n",
    "      output[expected_key] = np.asarray(output[expected_key])\n",
    "      expected_shape = input_shape\n",
    "      actual_shape = output[expected_key].shape\n",
    "      if expected_key not in check_full_shape:\n",
    "        expected_shape = expected_shape[0]\n",
    "        actual_shape = actual_shape[0]\n",
    "      if expected_shape != actual_shape:\n",
    "        raise ValueError(SHAPE_ERROR_MESSAGE[expected_key].format(\n",
    "                       expected_shape, actual_shape))\n"
   ]
  },
  {
   "cell_type": "code",
   "execution_count": 46,
   "metadata": {
    "id": "vMYQuC0onOFp",
    "ExecuteTime": {
     "end_time": "2023-05-12T17:58:14.662947200Z",
     "start_time": "2023-05-12T17:58:14.610802300Z"
    }
   },
   "outputs": [],
   "source": [
    "\"\"\"Utilities to compute saliency by returning the output gradients.\"\"\"\n",
    "\n",
    "import numpy as np\n",
    "\n",
    "\n",
    "class GradientSaliency(CoreSaliency):\n",
    "  \"\"\"A CoreSaliency class that computes saliency masks with gradients.\"\"\"\n",
    "\n",
    "  expected_keys = [INPUT_OUTPUT_GRADIENTS]\n",
    "\n",
    "  def GetMask(self, x_value, call_model_function, call_model_args=None):\n",
    "    \"\"\"Returns a vanilla gradients mask.\n",
    "\n",
    "    Args:\n",
    "      x_value: Input ndarray.\n",
    "      call_model_function: A function that interfaces with a model to return\n",
    "        specific data in a dictionary when given an input and other arguments.\n",
    "        Expected function signature:\n",
    "        - call_model_function(x_value_batch,\n",
    "                              call_model_args=None,\n",
    "                              expected_keys=None):\n",
    "          x_value_batch - Input for the model, given as a batch (i.e. dimension\n",
    "            0 is the batch dimension, dimensions 1 through n represent a single\n",
    "            input).\n",
    "          call_model_args - Other arguments used to call and run the model.\n",
    "          expected_keys - List of keys that are expected in the output. For this\n",
    "            method (Gradients), the expected keys are\n",
    "            INPUT_OUTPUT_GRADIENTS - Gradients of the output layer\n",
    "              (logit/softmax) with respect to the input. Shape should be the\n",
    "              same shape as x_value_batch.\n",
    "      call_model_args: The arguments that will be passed to the call model\n",
    "        function, for every call of the model.\n",
    "    \"\"\"\n",
    "    x_value_batched = np.expand_dims(x_value, axis=0)\n",
    "    call_model_output = call_model_function(\n",
    "        x_value_batched,\n",
    "        call_model_args=call_model_args,\n",
    "        expected_keys=self.expected_keys)\n",
    "\n",
    "    self.format_and_check_call_model_output(call_model_output,\n",
    "                                            x_value_batched.shape,\n",
    "                                            self.expected_keys)\n",
    "\n",
    "    return call_model_output[INPUT_OUTPUT_GRADIENTS][0]\n"
   ]
  },
  {
   "cell_type": "markdown",
   "source": [
    "# Application"
   ],
   "metadata": {
    "id": "nXV_484h8qBm"
   }
  },
  {
   "cell_type": "code",
   "source": [
    "heatmap_images = []\n",
    "raw_gradients = []"
   ],
   "metadata": {
    "id": "SazY4Jp63LlD",
    "ExecuteTime": {
     "end_time": "2023-05-12T17:58:14.663945200Z",
     "start_time": "2023-05-12T17:58:14.640836400Z"
    }
   },
   "execution_count": 47,
   "outputs": []
  },
  {
   "cell_type": "code",
   "source": [
    "last_conv_layer = model.get_layer(index=-3)\n",
    "new_model = tf.keras.models.Model(inputs=model.input, \n",
    "                                   outputs=[last_conv_layer.output, model.output])"
   ],
   "metadata": {
    "id": "hggXkmPO3DYK",
    "ExecuteTime": {
     "end_time": "2023-05-12T17:58:14.810757Z",
     "start_time": "2023-05-12T17:58:14.657950600Z"
    }
   },
   "execution_count": 48,
   "outputs": []
  },
  {
   "cell_type": "code",
   "source": [
    "smoothgrad = GradientSaliency()"
   ],
   "metadata": {
    "id": "_nfiPssg9rfe",
    "ExecuteTime": {
     "end_time": "2023-05-12T17:58:14.825828900Z",
     "start_time": "2023-05-12T17:58:14.812757600Z"
    }
   },
   "execution_count": 49,
   "outputs": []
  },
  {
   "cell_type": "code",
   "source": [
    "images = df['path']"
   ],
   "metadata": {
    "id": "XWJbnZ2dKKQP",
    "ExecuteTime": {
     "end_time": "2023-05-12T17:58:14.880440200Z",
     "start_time": "2023-05-12T17:58:14.828106200Z"
    }
   },
   "execution_count": 50,
   "outputs": []
  },
  {
   "cell_type": "code",
   "source": [
    "from PIL import Image"
   ],
   "metadata": {
    "id": "CkRYNrV5Oath",
    "ExecuteTime": {
     "end_time": "2023-05-12T17:58:14.880440200Z",
     "start_time": "2023-05-12T17:58:14.843931500Z"
    }
   },
   "execution_count": 51,
   "outputs": []
  },
  {
   "cell_type": "code",
   "execution_count": 52,
   "outputs": [
    {
     "name": "stdout",
     "output_type": "stream",
     "text": [
      "63/63 [==============================] - 1s 22ms/step\n"
     ]
    }
   ],
   "source": [
    "predictions = model.predict(X_test)"
   ],
   "metadata": {
    "collapsed": false,
    "ExecuteTime": {
     "end_time": "2023-05-12T17:58:16.395764600Z",
     "start_time": "2023-05-12T17:58:14.859042900Z"
    }
   }
  },
  {
   "cell_type": "code",
   "execution_count": 53,
   "outputs": [],
   "source": [
    "baseline = np.zeros(image_size)\n",
    "prediction_class = np.argmax(predictions[0])\n",
    "call_model_args = {class_idx_str: prediction_class}\n",
    "gradient_saliency = GradientSaliency()"
   ],
   "metadata": {
    "collapsed": false,
    "ExecuteTime": {
     "end_time": "2023-05-12T17:58:16.454395500Z",
     "start_time": "2023-05-12T17:58:16.370674500Z"
    }
   }
  },
  {
   "cell_type": "code",
   "source": [
    "for img in images[:100]:\n",
    "  img_arr = read_and_resize_image(image_path=img, size=image_size)\n",
    "  im_tensor = PreprocessImages([img_arr])\n",
    "  im = img_arr.astype(np.float32)\n",
    "  smoothgrad = GradientSaliency()\n",
    "  vanilla_integrated_gradients_mask_3d = smoothgrad.GetSmoothedMask(\n",
    "    im, call_model_function, call_model_args)\n",
    "  raw_gradients.append(vanilla_integrated_gradients_mask_3d)\n",
    "  heatmap_images.append(visualiseImageToHeatmap(vanilla_integrated_gradients_mask_3d))"
   ],
   "metadata": {
    "id": "fe1WZKB92AuA",
    "colab": {
     "base_uri": "https://localhost:8080/"
    },
    "outputId": "f07c0b01-a900-44a8-e5da-059633c69b43",
    "ExecuteTime": {
     "end_time": "2023-05-12T17:59:06.587844200Z",
     "start_time": "2023-05-12T17:58:16.396614500Z"
    }
   },
   "execution_count": 54,
   "outputs": []
  },
  {
   "cell_type": "code",
   "execution_count": 55,
   "outputs": [],
   "source": [
    "def convert_to_boolean_mask(image):\n",
    "    # Convert the image to a NumPy array\n",
    "    image = cv2.imread(image, cv2.IMREAD_GRAYSCALE)\n",
    "\n",
    "    # Create a boolean mask where white pixels are True and black pixels are False\n",
    "    binary_image = np.where(image == 255, True, False)  # Assuming white pixels are represented as 255\n",
    "\n",
    "    cropped_image = cv2.resize(binary_image.astype(np.uint8), (64, 64))\n",
    "\n",
    "    return cropped_image"
   ],
   "metadata": {
    "collapsed": false,
    "ExecuteTime": {
     "end_time": "2023-05-12T17:59:06.602987600Z",
     "start_time": "2023-05-12T17:59:06.589845300Z"
    }
   }
  },
  {
   "cell_type": "code",
   "execution_count": 56,
   "outputs": [],
   "source": [
    "def load_images_from_folder(folder_path):\n",
    "    image_paths = []\n",
    "    for filename in os.listdir(folder_path):\n",
    "        img_path = os.path.join(folder_path, filename)\n",
    "        if os.path.isfile(img_path):\n",
    "            image_paths.append(img_path)\n",
    "    return image_paths"
   ],
   "metadata": {
    "collapsed": false,
    "ExecuteTime": {
     "end_time": "2023-05-12T17:59:06.655830900Z",
     "start_time": "2023-05-12T17:59:06.606131900Z"
    }
   }
  },
  {
   "cell_type": "code",
   "execution_count": 57,
   "outputs": [],
   "source": [
    "folder_path = 'content/HAM10000_segmentations_lesion_tschandl/HAM10000_segmentations_lesion_tschandl'\n",
    "image_list = load_images_from_folder(folder_path)"
   ],
   "metadata": {
    "collapsed": false,
    "ExecuteTime": {
     "end_time": "2023-05-12T17:59:07.112647700Z",
     "start_time": "2023-05-12T17:59:06.620634500Z"
    }
   }
  },
  {
   "cell_type": "code",
   "execution_count": 58,
   "outputs": [],
   "source": [
    "segment_images = load_images_from_folder(folder_path)"
   ],
   "metadata": {
    "collapsed": false,
    "ExecuteTime": {
     "end_time": "2023-05-12T17:59:07.580798500Z",
     "start_time": "2023-05-12T17:59:07.114649100Z"
    }
   }
  },
  {
   "cell_type": "code",
   "execution_count": 59,
   "outputs": [],
   "source": [
    "boolean_masks = []\n",
    "for img in image_list:\n",
    "    boolean_masks.append(convert_to_boolean_mask(img))"
   ],
   "metadata": {
    "collapsed": false,
    "ExecuteTime": {
     "end_time": "2023-05-12T17:59:17.634646700Z",
     "start_time": "2023-05-12T17:59:07.582802900Z"
    }
   }
  },
  {
   "cell_type": "code",
   "execution_count": 60,
   "outputs": [
    {
     "name": "stdout",
     "output_type": "stream",
     "text": [
      "[[0 0 0 ... 0 0 0]\n",
      " [0 0 0 ... 0 0 0]\n",
      " [0 0 0 ... 0 0 0]\n",
      " ...\n",
      " [0 0 0 ... 0 0 0]\n",
      " [0 0 0 ... 0 0 0]\n",
      " [0 0 0 ... 0 0 0]]\n"
     ]
    }
   ],
   "source": [
    "print(boolean_masks[0])"
   ],
   "metadata": {
    "collapsed": false,
    "ExecuteTime": {
     "end_time": "2023-05-12T17:59:17.650746Z",
     "start_time": "2023-05-12T17:59:17.637151800Z"
    }
   }
  },
  {
   "cell_type": "code",
   "execution_count": 61,
   "outputs": [
    {
     "name": "stdout",
     "output_type": "stream",
     "text": [
      "100\n",
      "100\n",
      "10015\n",
      "10015\n"
     ]
    }
   ],
   "source": [
    "print(len(heatmap_images))\n",
    "print(len(raw_gradients))\n",
    "print(len(boolean_masks))\n",
    "print(len(segment_images))"
   ],
   "metadata": {
    "collapsed": false,
    "ExecuteTime": {
     "end_time": "2023-05-12T17:59:17.724883100Z",
     "start_time": "2023-05-12T17:59:17.652747300Z"
    }
   }
  },
  {
   "cell_type": "code",
   "execution_count": 62,
   "outputs": [],
   "source": [
    "def calculate_overlap(g, m) -> float:\n",
    "    # Invert the mask, so the pixels outside are True.\n",
    "    m[:] = ~m\n",
    "    # Replace where the mask is False, with a 0 in the same location in raw_gradients\n",
    "    segment = np.where(np.array(m), np.array(g), 0)\n",
    "    # We now have just the gradients in a 2D vector of the pixels outside the bounding box\n",
    "    sum_mask_segment = np.sum(segment)\n",
    "    # Find what percentage the outside pixels make up of the full gradient image by summing both 2D vectors\n",
    "    total_sum = np.sum(g)\n",
    "    # What percentage are the gradients outside the segment of the full gradient vector\n",
    "    overlap = (sum_mask_segment / total_sum) * 100\n",
    "\n",
    "    return overlap"
   ],
   "metadata": {
    "collapsed": false,
    "ExecuteTime": {
     "end_time": "2023-05-12T17:59:17.753484400Z",
     "start_time": "2023-05-12T17:59:17.668805800Z"
    }
   }
  },
  {
   "cell_type": "code",
   "execution_count": 70,
   "outputs": [
    {
     "name": "stdout",
     "output_type": "stream",
     "text": [
      "[4 4 4 ... 4 4 4]\n"
     ]
    }
   ],
   "source": [
    "overlap = []\n",
    "for i in range(len(raw_gradients)):\n",
    "    overlap.append([calculate_overlap(raw_gradients[i][:, :, 0], boolean_masks[i]), np.argmax(predictions, axis=1)[i]])"
   ],
   "metadata": {
    "collapsed": false,
    "ExecuteTime": {
     "end_time": "2023-05-12T18:02:32.082493700Z",
     "start_time": "2023-05-12T18:02:32.052310400Z"
    }
   }
  },
  {
   "cell_type": "code",
   "execution_count": 85,
   "outputs": [
    {
     "data": {
      "text/plain": "<Figure size 1000x600 with 0 Axes>"
     },
     "metadata": {},
     "output_type": "display_data"
    },
    {
     "data": {
      "text/plain": "<Figure size 1200x600 with 1 Axes>",
      "image/png": "[encoded data removed]"
     },
     "metadata": {},
     "output_type": "display_data"
    }
   ],
   "source": [
    "from collections import defaultdict\n",
    "\n",
    "# Calculate average overlap for each class\n",
    "class_overlaps = defaultdict(list)\n",
    "for item in overlap:\n",
    "    overlap_value = item[0]\n",
    "    class_label = item[1]\n",
    "    class_overlaps[class_label].append(overlap_value)\n",
    "\n",
    "class_labels = []\n",
    "average_overlaps = []\n",
    "\n",
    "for class_label, overlaps in class_overlaps.items():\n",
    "    class_labels.append(class_label)\n",
    "    average_overlap = sum(overlaps) / len(overlaps)\n",
    "    average_overlaps.append(average_overlap)\n",
    "\n",
    "# Create a bar chart or scatter plot\n",
    "plt.figure(figsize=(10, 6))  # Adjust the figure size as per your preference\n",
    "\n",
    "mapped_labels = [list(lesion_type_dict.values())[label] for label in class_labels]\n",
    "\n",
    "plt.figure(figsize=(12, 6))\n",
    "# Bar chart\n",
    "plt.bar(range(len(average_overlaps)), average_overlaps)\n",
    "plt.xticks(range(len(average_overlaps)), mapped_labels)\n",
    "plt.xlabel('Class')\n",
    "plt.ylabel('Average Overlap')\n",
    "plt.title('Average Overlap of Gradients over Masks')\n",
    "\n",
    "plt.show()"
   ],
   "metadata": {
    "collapsed": false,
    "ExecuteTime": {
     "end_time": "2023-05-12T18:11:46.589441700Z",
     "start_time": "2023-05-12T18:11:46.402101300Z"
    }
   }
  },
  {
   "cell_type": "code",
   "execution_count": null,
   "outputs": [],
   "source": [],
   "metadata": {
    "collapsed": false
   }
  }
 ],
 "metadata": {
  "accelerator": "GPU",
  "colab": {
   "machine_shape": "hm",
   "provenance": [],
   "gpuType": "T4",
   "collapsed_sections": [
    "CgNdhpLOvFjm",
    "Q7A6B6RebmmE",
    "FpxPXbXphKid"
   ]
  },
  "gpuClass": "standard",
  "kernelspec": {
   "display_name": "Python 3 (ipykernel)",
   "language": "python",
   "name": "python3"
  },
  "language_info": {
   "codemirror_mode": {
    "name": "ipython",
    "version": 3
   },
   "file_extension": ".py",
   "mimetype": "text/x-python",
   "name": "python",
   "nbconvert_exporter": "python",
   "pygments_lexer": "ipython3",
   "version": "3.10.11"
  }
 },
 "nbformat": 4,
 "nbformat_minor": 0
}
